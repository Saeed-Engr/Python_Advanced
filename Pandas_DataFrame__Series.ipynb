{
  "nbformat": 4,
  "nbformat_minor": 0,
  "metadata": {
    "colab": {
      "name": "Pandas_DataFrame _Series.ipynb",
      "provenance": [],
      "collapsed_sections": []
    },
    "kernelspec": {
      "name": "python3",
      "display_name": "Python 3"
    },
    "language_info": {
      "name": "python"
    }
  },
  "cells": [
    {
      "cell_type": "markdown",
      "metadata": {
        "id": "b3pjKcWcw91w"
      },
      "source": [
        "#Series in Pandas"
      ]
    },
    {
      "cell_type": "code",
      "metadata": {
        "id": "G7QYp2O7xC79"
      },
      "source": [
        "# series is a single dimentional array, \n",
        "# 1d arrary\n"
      ],
      "execution_count": 27,
      "outputs": []
    },
    {
      "cell_type": "markdown",
      "metadata": {
        "id": "YQGEMtl6yQ6V"
      },
      "source": [
        "#Create Series"
      ]
    },
    {
      "cell_type": "code",
      "metadata": {
        "id": "TXXeIdgWyNXH"
      },
      "source": [
        "import pandas as pd\n"
      ],
      "execution_count": 2,
      "outputs": []
    },
    {
      "cell_type": "code",
      "metadata": {
        "colab": {
          "base_uri": "https://localhost:8080/"
        },
        "id": "EwqxEqEKyeAX",
        "outputId": "7919b232-5f4a-4811-9aa1-2e877bdea031"
      },
      "source": [
        "data = pd.Series([3,23,32,9,90])\n",
        "print(data)"
      ],
      "execution_count": 3,
      "outputs": [
        {
          "output_type": "stream",
          "text": [
            "0     3\n",
            "1    23\n",
            "2    32\n",
            "3     9\n",
            "4    90\n",
            "dtype: int64\n"
          ],
          "name": "stdout"
        }
      ]
    },
    {
      "cell_type": "markdown",
      "metadata": {
        "id": "CIXv7rMrzjIT"
      },
      "source": [
        "#pandas Series has two things in one object\n",
        "#1 Values\n",
        "#2 Index"
      ]
    },
    {
      "cell_type": "code",
      "metadata": {
        "id": "kjuNcpd7yyt_"
      },
      "source": [
        "# pandas Series has two things in one object\n",
        "#1 Values\n",
        "#2 Index"
      ],
      "execution_count": 4,
      "outputs": []
    },
    {
      "cell_type": "code",
      "metadata": {
        "colab": {
          "base_uri": "https://localhost:8080/"
        },
        "id": "-BdSoVJwzsjh",
        "outputId": "340bd75d-fe47-4727-fb1e-be70df3186da"
      },
      "source": [
        "data = pd.Series([34,32,2332,90293,9933,29038] , index = ['jan','feb','mar','apr','may','jun'])\n",
        "print(data.values)\n",
        "print(data.index)"
      ],
      "execution_count": 5,
      "outputs": [
        {
          "output_type": "stream",
          "text": [
            "[   34    32  2332 90293  9933 29038]\n",
            "Index(['jan', 'feb', 'mar', 'apr', 'may', 'jun'], dtype='object')\n"
          ],
          "name": "stdout"
        }
      ]
    },
    {
      "cell_type": "code",
      "metadata": {
        "colab": {
          "base_uri": "https://localhost:8080/"
        },
        "id": "HcoN2CcY07LW",
        "outputId": "235f9c5f-20a1-4c16-f262-f90ec7d37aae"
      },
      "source": [
        "print(data)"
      ],
      "execution_count": 6,
      "outputs": [
        {
          "output_type": "stream",
          "text": [
            "jan       34\n",
            "feb       32\n",
            "mar     2332\n",
            "apr    90293\n",
            "may     9933\n",
            "jun    29038\n",
            "dtype: int64\n"
          ],
          "name": "stdout"
        }
      ]
    },
    {
      "cell_type": "markdown",
      "metadata": {
        "id": "1JtjMfDS3nn0"
      },
      "source": [
        "#Access values"
      ]
    },
    {
      "cell_type": "code",
      "metadata": {
        "colab": {
          "base_uri": "https://localhost:8080/"
        },
        "id": "ugojqFw11KZr",
        "outputId": "fed97375-767b-4f7e-ee41-76a32ed88db8"
      },
      "source": [
        "print(data [1])\n",
        "print(data [\"feb\"])"
      ],
      "execution_count": 7,
      "outputs": [
        {
          "output_type": "stream",
          "text": [
            "32\n",
            "32\n"
          ],
          "name": "stdout"
        }
      ]
    },
    {
      "cell_type": "code",
      "metadata": {
        "colab": {
          "base_uri": "https://localhost:8080/"
        },
        "id": "4opL1XDU3W-Q",
        "outputId": "8a85cbf8-bf1f-4d40-acd2-c6cbaa4a46dd"
      },
      "source": [
        "print(data [[0,3,5,4]])"
      ],
      "execution_count": 8,
      "outputs": [
        {
          "output_type": "stream",
          "text": [
            "jan       34\n",
            "apr    90293\n",
            "jun    29038\n",
            "may     9933\n",
            "dtype: int64\n"
          ],
          "name": "stdout"
        }
      ]
    },
    {
      "cell_type": "code",
      "metadata": {
        "colab": {
          "base_uri": "https://localhost:8080/"
        },
        "id": "dDp3mXXW3yUT",
        "outputId": "87334f66-3b7f-4991-aed7-3b3148780fb8"
      },
      "source": [
        "print(data[data > 40])"
      ],
      "execution_count": 9,
      "outputs": [
        {
          "output_type": "stream",
          "text": [
            "mar     2332\n",
            "apr    90293\n",
            "may     9933\n",
            "jun    29038\n",
            "dtype: int64\n"
          ],
          "name": "stdout"
        }
      ]
    },
    {
      "cell_type": "code",
      "metadata": {
        "colab": {
          "base_uri": "https://localhost:8080/"
        },
        "id": "SQL46AaM4beR",
        "outputId": "f2353491-5519-4e54-f8f6-c1accd55d736"
      },
      "source": [
        "print(data > 40)    # Boolean Result"
      ],
      "execution_count": 10,
      "outputs": [
        {
          "output_type": "stream",
          "text": [
            "jan    False\n",
            "feb    False\n",
            "mar     True\n",
            "apr     True\n",
            "may     True\n",
            "jun     True\n",
            "dtype: bool\n"
          ],
          "name": "stdout"
        }
      ]
    },
    {
      "cell_type": "markdown",
      "metadata": {
        "id": "C3k53kI06P1E"
      },
      "source": [
        "# We can use numpy array in Series"
      ]
    },
    {
      "cell_type": "code",
      "metadata": {
        "id": "rgKHvzZB5Cfi"
      },
      "source": [
        "import numpy as np"
      ],
      "execution_count": 11,
      "outputs": []
    },
    {
      "cell_type": "code",
      "metadata": {
        "colab": {
          "base_uri": "https://localhost:8080/"
        },
        "id": "irm0yksr6fzU",
        "outputId": "095f7333-c39c-4e93-e390-9d86e2c7a8d8"
      },
      "source": [
        "arr = [393,43,22,2,4]\n",
        "ind = ['a', 'b', 'c','d','f']\n",
        "da = pd.Series(arr, index=ind)\n",
        "print(da)"
      ],
      "execution_count": 12,
      "outputs": [
        {
          "output_type": "stream",
          "text": [
            "a    393\n",
            "b     43\n",
            "c     22\n",
            "d      2\n",
            "f      4\n",
            "dtype: int64\n"
          ],
          "name": "stdout"
        }
      ]
    },
    {
      "cell_type": "markdown",
      "metadata": {
        "id": "ePKKSpjF8C4A"
      },
      "source": [
        "#Dictionary as input in Series"
      ]
    },
    {
      "cell_type": "code",
      "metadata": {
        "colab": {
          "base_uri": "https://localhost:8080/"
        },
        "id": "9uJp6-XP65mo",
        "outputId": "cb1ffcbc-25cd-484f-a0cc-8438240aecb9"
      },
      "source": [
        "dic = {'sindh':30000, 'punjab':70000, 'kpk' : 40000, 'blochistan' : 20000}\n",
        "text_state = pd.Series(dic)\n",
        "print(text_state)"
      ],
      "execution_count": 13,
      "outputs": [
        {
          "output_type": "stream",
          "text": [
            "sindh         30000\n",
            "punjab        70000\n",
            "kpk           40000\n",
            "blochistan    20000\n",
            "dtype: int64\n"
          ],
          "name": "stdout"
        }
      ]
    },
    {
      "cell_type": "markdown",
      "metadata": {
        "id": "KHgs_TBn95tq"
      },
      "source": [
        "# Finding null value"
      ]
    },
    {
      "cell_type": "markdown",
      "metadata": {
        "id": "gl6Yo9OL--ZK"
      },
      "source": [
        "  There are two ways:   'data'  is a series\n",
        "  1.  pd.isnull(data)    method   \n",
        "  2.  data.isnull()     function"
      ]
    },
    {
      "cell_type": "code",
      "metadata": {
        "colab": {
          "base_uri": "https://localhost:8080/"
        },
        "id": "GOIUwD1S7_aC",
        "outputId": "bcf2766d-dfcc-464e-8f96-7308011a04a9"
      },
      "source": [
        "#  There are two ways:   'data'  is a series\n",
        "print( pd.isnull(data))   # method   \n",
        "print(\"       \")\n",
        "print(data.isnull())     #function"
      ],
      "execution_count": 14,
      "outputs": [
        {
          "output_type": "stream",
          "text": [
            "jan    False\n",
            "feb    False\n",
            "mar    False\n",
            "apr    False\n",
            "may    False\n",
            "jun    False\n",
            "dtype: bool\n",
            "       \n",
            "jan    False\n",
            "feb    False\n",
            "mar    False\n",
            "apr    False\n",
            "may    False\n",
            "jun    False\n",
            "dtype: bool\n"
          ],
          "name": "stdout"
        }
      ]
    },
    {
      "cell_type": "code",
      "metadata": {
        "id": "jElebwb-9Bio"
      },
      "source": [
        ""
      ],
      "execution_count": 14,
      "outputs": []
    },
    {
      "cell_type": "markdown",
      "metadata": {
        "id": "zO57PoEs8H76"
      },
      "source": [
        "#Data Frame"
      ]
    },
    {
      "cell_type": "code",
      "metadata": {
        "id": "VGrAW-YN8OeE"
      },
      "source": [
        "# We use multiple demention data in DataFrame"
      ],
      "execution_count": 15,
      "outputs": []
    },
    {
      "cell_type": "code",
      "metadata": {
        "id": "3u-5E1Es8Ya9"
      },
      "source": [
        "import pandas as pd"
      ],
      "execution_count": 16,
      "outputs": []
    },
    {
      "cell_type": "markdown",
      "metadata": {
        "id": "ECPOsi2f-RiA"
      },
      "source": [
        "#Creating DataFrame"
      ]
    },
    {
      "cell_type": "code",
      "metadata": {
        "colab": {
          "base_uri": "https://localhost:8080/"
        },
        "id": "Ywd19PoG8csz",
        "outputId": "6b545522-a2eb-48b5-a714-b1864c2fa60b"
      },
      "source": [
        "name = pd.Series(['ali','rana', 'ramzan'])\n",
        "num  = pd.Series([34,89,90])\n",
        "print(name)\n",
        "print(num)\n",
        "\n",
        "data = {\"Student\" : name, \"marks\" : num}\n",
        "files =  pd.DataFrame(data)\n",
        "print(files)\n"
      ],
      "execution_count": 17,
      "outputs": [
        {
          "output_type": "stream",
          "text": [
            "0       ali\n",
            "1      rana\n",
            "2    ramzan\n",
            "dtype: object\n",
            "0    34\n",
            "1    89\n",
            "2    90\n",
            "dtype: int64\n",
            "  Student  marks\n",
            "0     ali     34\n",
            "1    rana     89\n",
            "2  ramzan     90\n"
          ],
          "name": "stdout"
        }
      ]
    },
    {
      "cell_type": "markdown",
      "metadata": {
        "id": "Bxa0K-l_9xoB"
      },
      "source": [
        "#combine two Series and giving culumns name"
      ]
    },
    {
      "cell_type": "code",
      "metadata": {
        "id": "XXfzuhy486mY"
      },
      "source": [
        "ame = pd.Series(['ali','rana', 'ramzan'])\n",
        "num  = pd.Series([34,89,90])"
      ],
      "execution_count": 18,
      "outputs": []
    },
    {
      "cell_type": "code",
      "metadata": {
        "colab": {
          "base_uri": "https://localhost:8080/"
        },
        "id": "GlWxuaz1-FLn",
        "outputId": "2b8d0e3c-bb4b-4235-9610-62005e2e4282"
      },
      "source": [
        "\n",
        "data = {\"Student\" : name, \"marks\" : num}\n",
        "files =  pd.DataFrame(data)\n",
        "print(files)"
      ],
      "execution_count": 19,
      "outputs": [
        {
          "output_type": "stream",
          "text": [
            "  Student  marks\n",
            "0     ali     34\n",
            "1    rana     89\n",
            "2  ramzan     90\n"
          ],
          "name": "stdout"
        }
      ]
    },
    {
      "cell_type": "markdown",
      "metadata": {
        "id": "CDxE3E9h_kzm"
      },
      "source": [
        "#Adding index"
      ]
    },
    {
      "cell_type": "code",
      "metadata": {
        "colab": {
          "base_uri": "https://localhost:8080/"
        },
        "id": "AL5qg69S_8rg",
        "outputId": "387a6799-ab87-4b68-adb4-1337dfc07b14"
      },
      "source": [
        "state = ['Ohio', 'Ohio', 'Ohio', 'Nevada', 'Nevada', 'Nevada']\n",
        "data = {'state': state ,\n",
        "        'year' : [2000, 2001, 2002, 2001, 2002, 2003],\n",
        "        'pop'  : [1.5, 1.7, 3.6, 2.4, 2.9, 3.2]}\n",
        "state_pop_df = pd.DataFrame(data \n",
        "                     , index = ['1st', '2nd', '3rd', \n",
        "                                '4th', '5th','6th'] )\n",
        "print(state_pop_df)"
      ],
      "execution_count": 20,
      "outputs": [
        {
          "output_type": "stream",
          "text": [
            "      state  year  pop\n",
            "1st    Ohio  2000  1.5\n",
            "2nd    Ohio  2001  1.7\n",
            "3rd    Ohio  2002  3.6\n",
            "4th  Nevada  2001  2.4\n",
            "5th  Nevada  2002  2.9\n",
            "6th  Nevada  2003  3.2\n"
          ],
          "name": "stdout"
        }
      ]
    },
    {
      "cell_type": "code",
      "metadata": {
        "colab": {
          "base_uri": "https://localhost:8080/"
        },
        "id": "wWDjY-RQEX9t",
        "outputId": "4620006f-5822-4d58-988e-231604ad8d65"
      },
      "source": [
        "state_pop_df.columns"
      ],
      "execution_count": 21,
      "outputs": [
        {
          "output_type": "execute_result",
          "data": {
            "text/plain": [
              "Index(['state', 'year', 'pop'], dtype='object')"
            ]
          },
          "metadata": {
            "tags": []
          },
          "execution_count": 21
        }
      ]
    },
    {
      "cell_type": "code",
      "metadata": {
        "colab": {
          "base_uri": "https://localhost:8080/"
        },
        "id": "Sxx8TPqyF7Hx",
        "outputId": "21a30003-2589-4884-f83d-b8377a1c2d46"
      },
      "source": [
        "state_pop_df.index"
      ],
      "execution_count": 22,
      "outputs": [
        {
          "output_type": "execute_result",
          "data": {
            "text/plain": [
              "Index(['1st', '2nd', '3rd', '4th', '5th', '6th'], dtype='object')"
            ]
          },
          "metadata": {
            "tags": []
          },
          "execution_count": 22
        }
      ]
    },
    {
      "cell_type": "markdown",
      "metadata": {
        "id": "U9qfzbneGfaW"
      },
      "source": [
        "#Dictionary like notation"
      ]
    },
    {
      "cell_type": "code",
      "metadata": {
        "colab": {
          "base_uri": "https://localhost:8080/"
        },
        "id": "zTsncNGsF_FK",
        "outputId": "6986ebe4-41ee-4433-f7f4-94173a2f0023"
      },
      "source": [
        "state_pop_df['year']"
      ],
      "execution_count": 23,
      "outputs": [
        {
          "output_type": "execute_result",
          "data": {
            "text/plain": [
              "1st    2000\n",
              "2nd    2001\n",
              "3rd    2002\n",
              "4th    2001\n",
              "5th    2002\n",
              "6th    2003\n",
              "Name: year, dtype: int64"
            ]
          },
          "metadata": {
            "tags": []
          },
          "execution_count": 23
        }
      ]
    },
    {
      "cell_type": "code",
      "metadata": {
        "colab": {
          "base_uri": "https://localhost:8080/"
        },
        "id": "roqsdZw4GoUy",
        "outputId": "7bf8cd8f-fc4e-4111-f121-94d638a8d693"
      },
      "source": [
        "state_pop_df['pop']"
      ],
      "execution_count": 24,
      "outputs": [
        {
          "output_type": "execute_result",
          "data": {
            "text/plain": [
              "1st    1.5\n",
              "2nd    1.7\n",
              "3rd    3.6\n",
              "4th    2.4\n",
              "5th    2.9\n",
              "6th    3.2\n",
              "Name: pop, dtype: float64"
            ]
          },
          "metadata": {
            "tags": []
          },
          "execution_count": 24
        }
      ]
    },
    {
      "cell_type": "code",
      "metadata": {
        "colab": {
          "base_uri": "https://localhost:8080/"
        },
        "id": "o_1KIFNvG_tR",
        "outputId": "e9e009a4-8806-4582-cfcb-8062966ee297"
      },
      "source": [
        "state_pop_df.state"
      ],
      "execution_count": 25,
      "outputs": [
        {
          "output_type": "execute_result",
          "data": {
            "text/plain": [
              "1st      Ohio\n",
              "2nd      Ohio\n",
              "3rd      Ohio\n",
              "4th    Nevada\n",
              "5th    Nevada\n",
              "6th    Nevada\n",
              "Name: state, dtype: object"
            ]
          },
          "metadata": {
            "tags": []
          },
          "execution_count": 25
        }
      ]
    },
    {
      "cell_type": "code",
      "metadata": {
        "id": "LtDn0Ui-HTde"
      },
      "source": [
        ""
      ],
      "execution_count": 25,
      "outputs": []
    }
  ]
}