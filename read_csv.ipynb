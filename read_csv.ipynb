{
 "cells": [
  {
   "cell_type": "code",
   "execution_count": 1,
   "metadata": {},
   "outputs": [],
   "source": [
    "import pandas as pd"
   ]
  },
  {
   "cell_type": "code",
   "execution_count": 2,
   "metadata": {},
   "outputs": [],
   "source": [
    "import numpy as np"
   ]
  },
  {
   "cell_type": "code",
   "execution_count": 3,
   "metadata": {},
   "outputs": [],
   "source": [
    "df2=pd.read_csv(\"examples/ex3.csv\")"
   ]
  },
  {
   "cell_type": "code",
   "execution_count": 4,
   "metadata": {},
   "outputs": [
    {
     "data": {
      "text/html": [
       "<div>\n",
       "<style scoped>\n",
       "    .dataframe tbody tr th:only-of-type {\n",
       "        vertical-align: middle;\n",
       "    }\n",
       "\n",
       "    .dataframe tbody tr th {\n",
       "        vertical-align: top;\n",
       "    }\n",
       "\n",
       "    .dataframe thead th {\n",
       "        text-align: right;\n",
       "    }\n",
       "</style>\n",
       "<table border=\"1\" class=\"dataframe\">\n",
       "  <thead>\n",
       "    <tr style=\"text-align: right;\">\n",
       "      <th></th>\n",
       "      <th>A         B         C</th>\n",
       "    </tr>\n",
       "  </thead>\n",
       "  <tbody>\n",
       "    <tr>\n",
       "      <th>0</th>\n",
       "      <td>aaa -0.264438 -1.026059 -0.619500</td>\n",
       "    </tr>\n",
       "    <tr>\n",
       "      <th>1</th>\n",
       "      <td>bbb  0.927272  0.302904 -0.032399</td>\n",
       "    </tr>\n",
       "    <tr>\n",
       "      <th>2</th>\n",
       "      <td>ccc -0.264273 -0.386314 -0.217601</td>\n",
       "    </tr>\n",
       "    <tr>\n",
       "      <th>3</th>\n",
       "      <td>ddd -0.871858 -0.348382  1.100491</td>\n",
       "    </tr>\n",
       "  </tbody>\n",
       "</table>\n",
       "</div>"
      ],
      "text/plain": [
       "               A         B         C\n",
       "0  aaa -0.264438 -1.026059 -0.619500\n",
       "1  bbb  0.927272  0.302904 -0.032399\n",
       "2  ccc -0.264273 -0.386314 -0.217601\n",
       "3  ddd -0.871858 -0.348382  1.100491"
      ]
     },
     "execution_count": 4,
     "metadata": {},
     "output_type": "execute_result"
    }
   ],
   "source": [
    "df2"
   ]
  },
  {
   "cell_type": "code",
   "execution_count": 6,
   "metadata": {},
   "outputs": [],
   "source": [
    "import pandas as pd"
   ]
  },
  {
   "cell_type": "code",
   "execution_count": 7,
   "metadata": {},
   "outputs": [],
   "source": [
    "import numpy as np"
   ]
  },
  {
   "cell_type": "code",
   "execution_count": 9,
   "metadata": {},
   "outputs": [
    {
     "name": "stdout",
     "output_type": "stream",
     "text": [
      "  studentid         name   chimestry   physics   english   math\n",
      "0       A01     arif ali          20        30        40     50\n",
      "1       A02  kamran khan          30        40        50     60\n",
      "2       A03   imran ali           40        50        60     70\n",
      "3       A04  kashif khan          50        60        70     80\n"
     ]
    }
   ],
   "source": [
    "sample_df = pd.read_csv(\"examples/sample.csv\")\n",
    "\n",
    "print(sample_df)"
   ]
  },
  {
   "cell_type": "code",
   "execution_count": 10,
   "metadata": {},
   "outputs": [
    {
     "data": {
      "text/plain": [
       "<bound method NDFrame.head of   studentid         name   chimestry   physics   english   math\n",
       "0       A01     arif ali          20        30        40     50\n",
       "1       A02  kamran khan          30        40        50     60\n",
       "2       A03   imran ali           40        50        60     70\n",
       "3       A04  kashif khan          50        60        70     80>"
      ]
     },
     "execution_count": 10,
     "metadata": {},
     "output_type": "execute_result"
    }
   ],
   "source": [
    "sample_df.head"
   ]
  },
  {
   "cell_type": "code",
   "execution_count": 16,
   "metadata": {},
   "outputs": [
    {
     "name": "stdout",
     "output_type": "stream",
     "text": [
      "          id         name          ch       phy       eng     ma\n",
      "0  studentid         name   chimestry   physics   english   math\n",
      "1        A01     arif ali          20        30        40     50\n",
      "2        A02  kamran khan          30        40        50     60\n",
      "3        A03   imran ali           40        50        60     70\n",
      "4        A04  kashif khan          50        60        70     80\n"
     ]
    }
   ],
   "source": [
    "#  here we can replaced / change colums names\n",
    "sample_df= pd.read_csv(\"examples/sample.csv\", \n",
    "                       names=['id', 'name', 'ch', 'phy', 'eng','ma' ])\n",
    "\n",
    "print(sample_df)"
   ]
  },
  {
   "cell_type": "code",
   "execution_count": 21,
   "metadata": {},
   "outputs": [
    {
     "name": "stdout",
     "output_type": "stream",
     "text": [
      "    id         name  ch  phy  eng  ma\n",
      "0  A01     arif ali  20   30   40  50\n",
      "1  A02  kamran khan  30   40   50  60\n",
      "2  A03   imran ali   40   50   60  70\n",
      "3  A04  kashif khan  50   60   70  80\n"
     ]
    }
   ],
   "source": [
    "#  here we did row1 skip using ( skiprows=1 )\n",
    "# if you give 1 then it skip 0,1 :start index wise butif you give 2 \n",
    "# then it skip first two rows\n",
    "\n",
    "sample_df= pd.read_csv(\"examples/sample.csv\",skiprows=1,  \n",
    "                       names=['id', 'name', 'ch', 'phy', 'eng','ma' ])\n",
    "\n",
    "print(sample_df) \n",
    "                     "
   ]
  },
  {
   "cell_type": "code",
   "execution_count": 32,
   "metadata": {},
   "outputs": [
    {
     "name": "stdout",
     "output_type": "stream",
     "text": [
      "    id         name  ch  phy  eng  ma\n",
      "0  A02  kamran khan  30   40   50  60\n",
      "1  A03   imran ali   40   50   60  70\n",
      "2  A04  kashif khan  50   60   70  80\n"
     ]
    }
   ],
   "source": [
    "#  here we can replaced / change colums names\n",
    "# if you give 1 then it skip 0,1 :start index wise but if you give 2 \n",
    "# then it skip first two rows\n",
    "\n",
    "sample_df= pd.read_csv(\"examples/sample.csv\",skiprows=2 ,\n",
    "                       names=['id', 'name', 'ch', 'phy', 'eng','ma' ])\n",
    "\n",
    "print(sample_df)"
   ]
  },
  {
   "cell_type": "code",
   "execution_count": 90,
   "metadata": {},
   "outputs": [
    {
     "name": "stdout",
     "output_type": "stream",
     "text": [
      "   A03   imran ali    40   50   60  70\n",
      "0  A04  kashif khan   50   60   70  80\n"
     ]
    }
   ],
   "source": [
    "#  here we can skip rows but first three rows skip in sequence\n",
    "\n",
    "sample_df= pd.read_csv(\"examples/sample.csv\",skiprows=3 )\n",
    "\n",
    "print(sample_df)"
   ]
  },
  {
   "cell_type": "code",
   "execution_count": 93,
   "metadata": {},
   "outputs": [
    {
     "name": "stdout",
     "output_type": "stream",
     "text": [
      "  studentid         name   chimestry   physics   english   math\n",
      "0       A01     arif ali          20        30        40     50\n",
      "1       A02  kamran khan          30        40        50     60\n",
      "2       A03   imran ali           40        50        60     70\n",
      "\n",
      "\n",
      "  studentid         name   chimestry   physics   english   math\n",
      "0       A01     arif ali          20        30        40     50\n",
      "1       A02  kamran khan          30        40        50     60\n",
      "2       A04  kashif khan          50        60        70     80\n"
     ]
    }
   ],
   "source": [
    "#  if we want to skip rows : 4th rows skip not all 4 rows\n",
    "sample_df= pd.read_csv(\"examples/sample.csv\",skiprows=[4])\n",
    "\n",
    "print(sample_df)\n",
    "print('\\n')\n",
    "\n",
    "sample_df= pd.read_csv(\"examples/sample.csv\",skiprows=[3] )\n",
    "#  here 3rd row skip\n",
    "print(sample_df)"
   ]
  },
  {
   "cell_type": "code",
   "execution_count": 42,
   "metadata": {},
   "outputs": [
    {
     "name": "stdout",
     "output_type": "stream",
     "text": [
      "           0            1           2         3         4      5\n",
      "0  studentid         name   chimestry   physics   english   math\n",
      "1        A01     arif ali          20        30        40     50\n",
      "2        A02  kamran khan          30        40        50     60\n",
      "3        A03   imran ali           40        50        60     70\n",
      "4        A04  kashif khan          50        60        70     80\n"
     ]
    }
   ],
   "source": [
    "# We can change column names while loading data\n",
    "# if you have not labels then we can use\n",
    "sample_df=pd.read_csv(\"examples/sample.csv\",header=None)\n",
    "                     # names=['id','name','ch','phy','eng','ma'])\n",
    "\n",
    "print(sample_df)"
   ]
  },
  {
   "cell_type": "code",
   "execution_count": 43,
   "metadata": {},
   "outputs": [
    {
     "name": "stdout",
     "output_type": "stream",
     "text": [
      "    id         name  ch  phy  eng  ma\n",
      "0  A01     arif ali  20   30   40  50\n",
      "1  A02  kamran khan  30   40   50  60\n",
      "2  A03   imran ali   40   50   60  70\n",
      "3  A04  kashif khan  50   60   70  80\n"
     ]
    }
   ],
   "source": [
    "sample_df=pd.read_csv(\"examples/sample.csv\",skiprows=1,\n",
    "                      names=['id','name','ch','phy','eng','ma'])\n",
    "\n",
    "print(sample_df)"
   ]
  },
  {
   "cell_type": "code",
   "execution_count": null,
   "metadata": {},
   "outputs": [],
   "source": [
    "#  Here, start book"
   ]
  },
  {
   "cell_type": "code",
   "execution_count": 50,
   "metadata": {},
   "outputs": [
    {
     "name": "stdout",
     "output_type": "stream",
     "text": [
      "   a   b   c   d message\n",
      "0  1   2   3   4   hello\n",
      "1  5   6   7   8   world\n",
      "2  9  10  11  12     foo\n"
     ]
    }
   ],
   "source": [
    "sample_df=pd.read_csv(\"examples/ex1.csv\" )\n",
    "\n",
    "print(sample_df)"
   ]
  },
  {
   "cell_type": "code",
   "execution_count": 58,
   "metadata": {},
   "outputs": [
    {
     "name": "stdout",
     "output_type": "stream",
     "text": [
      "   a   b   c   d message\n",
      "0  1   2   3   4   hello\n",
      "1  5   6   7   8   world\n",
      "2  9  10  11  12     foo\n"
     ]
    }
   ],
   "source": [
    "sample_df=pd.read_csv(\"examples/ex1.csv\" )\n",
    "\n",
    "print(sample_df)"
   ]
  },
  {
   "cell_type": "code",
   "execution_count": 60,
   "metadata": {},
   "outputs": [
    {
     "name": "stdout",
     "output_type": "stream",
     "text": [
      "   1   2   3   4  hello\n",
      "0  5   6   7   8  world\n",
      "1  9  10  11  12    foo\n"
     ]
    }
   ],
   "source": [
    "sample_df=pd.read_csv(\"examples/ex2.csv\" )\n",
    "\n",
    "print(sample_df)\n",
    "#  in this file , there is no columns label"
   ]
  },
  {
   "cell_type": "code",
   "execution_count": 61,
   "metadata": {},
   "outputs": [
    {
     "name": "stdout",
     "output_type": "stream",
     "text": [
      "   0   1   2   3      4\n",
      "0  1   2   3   4  hello\n",
      "1  5   6   7   8  world\n",
      "2  9  10  11  12    foo\n"
     ]
    }
   ],
   "source": [
    "# there, ex2 file have no column labels then use header=None\n",
    "\n",
    "sample_df=pd.read_csv(\"examples/ex2.csv\", header=None)\n",
    "\n",
    "print(sample_df)"
   ]
  },
  {
   "cell_type": "code",
   "execution_count": 62,
   "metadata": {},
   "outputs": [
    {
     "name": "stdout",
     "output_type": "stream",
     "text": [
      "   a   b   c   d message\n",
      "0  1   2   3   4   hello\n",
      "1  5   6   7   8   world\n",
      "2  9  10  11  12     foo\n"
     ]
    }
   ],
   "source": [
    "sample_df=pd.read_csv(\"examples/ex1.csv\" )\n",
    "\n",
    "print(sample_df)"
   ]
  },
  {
   "cell_type": "code",
   "execution_count": 63,
   "metadata": {},
   "outputs": [
    {
     "name": "stdout",
     "output_type": "stream",
     "text": [
      "  studentid         name   chimestry   physics   english   math\n",
      "0       A01     arif ali          20        30        40     50\n",
      "1       A02  kamran khan          30        40        50     60\n",
      "2       A03   imran ali           40        50        60     70\n",
      "3       A04  kashif khan          50        60        70     80\n"
     ]
    }
   ],
   "source": [
    "sample_df=pd.read_csv(\"examples/sample.csv\" )\n",
    "\n",
    "print(sample_df)"
   ]
  },
  {
   "cell_type": "code",
   "execution_count": 66,
   "metadata": {},
   "outputs": [
    {
     "name": "stdout",
     "output_type": "stream",
     "text": [
      "    id        names  ch  phy  eng  ma\n",
      "0  A01     arif ali  20   30   40  50\n",
      "1  A02  kamran khan  30   40   50  60\n",
      "2  A03   imran ali   40   50   60  70\n",
      "3  A04  kashif khan  50   60   70  80\n"
     ]
    }
   ],
   "source": [
    "sample_df=pd.read_csv(\"examples/sample.csv\",skiprows=1,\n",
    "                     names=['id','names','ch','phy','eng','ma'])\n",
    "\n",
    "print(sample_df)"
   ]
  },
  {
   "cell_type": "markdown",
   "metadata": {},
   "source": [
    "# Hererical Indexing"
   ]
  },
  {
   "cell_type": "code",
   "execution_count": 77,
   "metadata": {},
   "outputs": [
    {
     "name": "stdout",
     "output_type": "stream",
     "text": [
      "  key1 key2  value1  value2\n",
      "0  one    a       1       2\n",
      "1  one    b       3       4\n",
      "2  one    c       5       6\n",
      "3  one    d       7       8\n",
      "4  two    a       9      10\n",
      "5  two    b      11      12\n",
      "6  two    c      13      14\n",
      "7  two    d      15      16\n"
     ]
    }
   ],
   "source": [
    "sample2_df=pd.read_csv(\"examples/sample2.csv\")\n",
    "print(sample2_df)"
   ]
  },
  {
   "cell_type": "code",
   "execution_count": 78,
   "metadata": {},
   "outputs": [
    {
     "name": "stdout",
     "output_type": "stream",
     "text": [
      "     key2  value1  value2\n",
      "key1                     \n",
      "one     a       1       2\n",
      "one     b       3       4\n",
      "one     c       5       6\n",
      "one     d       7       8\n",
      "two     a       9      10\n",
      "two     b      11      12\n",
      "two     c      13      14\n",
      "two     d      15      16\n"
     ]
    }
   ],
   "source": [
    "sample2_df=pd.read_csv(\"examples/sample2.csv\", index_col=['key1'])\n",
    "print(sample2_df)"
   ]
  },
  {
   "cell_type": "code",
   "execution_count": 79,
   "metadata": {},
   "outputs": [
    {
     "name": "stdout",
     "output_type": "stream",
     "text": [
      "           value1  value2\n",
      "key1 key2                \n",
      "one  a          1       2\n",
      "     b          3       4\n",
      "     c          5       6\n",
      "     d          7       8\n",
      "two  a          9      10\n",
      "     b         11      12\n",
      "     c         13      14\n",
      "     d         15      16\n"
     ]
    }
   ],
   "source": [
    "sample2_df=pd.read_csv(\"examples/sample2.csv\", index_col=['key1','key2'])\n",
    "print(sample2_df)\n",
    "\n",
    "# here we can see that,key1 and key2 used as index."
   ]
  },
  {
   "cell_type": "code",
   "execution_count": 84,
   "metadata": {},
   "outputs": [
    {
     "name": "stdout",
     "output_type": "stream",
     "text": [
      "               A         B         C\n",
      "0  aaa -0.264438 -1.026059 -0.619500\n",
      "1  bbb  0.927272  0.302904 -0.032399\n",
      "2  ccc -0.264273 -0.386314 -0.217601\n",
      "3  ddd -0.871858 -0.348382  1.100491\n"
     ]
    }
   ],
   "source": [
    " result = pd.read_table('examples/ex3.txt')\n",
    "\n",
    "print(result)"
   ]
  }
 ],
 "metadata": {
  "kernelspec": {
   "display_name": "Python 3",
   "language": "python",
   "name": "python3"
  },
  "language_info": {
   "codemirror_mode": {
    "name": "ipython",
    "version": 3
   },
   "file_extension": ".py",
   "mimetype": "text/x-python",
   "name": "python",
   "nbconvert_exporter": "python",
   "pygments_lexer": "ipython3",
   "version": "3.8.5"
  }
 },
 "nbformat": 4,
 "nbformat_minor": 4
}
