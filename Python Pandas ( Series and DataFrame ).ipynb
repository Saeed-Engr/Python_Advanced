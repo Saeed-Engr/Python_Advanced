{
 "cells": [
  {
   "cell_type": "code",
   "execution_count": 1,
   "metadata": {},
   "outputs": [],
   "source": [
    "# IMPORT PANDAS FIRAST\n",
    "\n",
    "import pandas as pd"
   ]
  },
  {
   "cell_type": "code",
   "execution_count": 3,
   "metadata": {},
   "outputs": [
    {
     "name": "stdout",
     "output_type": "stream",
     "text": [
      "0    3\n",
      "1    5\n",
      "2    2\n",
      "3    0\n",
      "4    8\n",
      "dtype: int64\n"
     ]
    }
   ],
   "source": [
    "obj = pd.Series([3,5,2,0,8])   # Series ka S capital hona chahye\n",
    "print(obj)"
   ]
  },
  {
   "cell_type": "markdown",
   "metadata": {},
   "source": [
    "#  pandas has two things in one object"
   ]
  },
  {
   "cell_type": "code",
   "execution_count": 4,
   "metadata": {},
   "outputs": [],
   "source": [
    "# Value  and index"
   ]
  },
  {
   "cell_type": "code",
   "execution_count": 6,
   "metadata": {},
   "outputs": [
    {
     "name": "stdout",
     "output_type": "stream",
     "text": [
      "[100 200 300 400]\n",
      "RangeIndex(start=0, stop=4, step=1)\n"
     ]
    }
   ],
   "source": [
    "sales = pd.Series([100,200,300,400])\n",
    "print(sales.values)\n",
    "print(sales.index)"
   ]
  },
  {
   "cell_type": "code",
   "execution_count": 7,
   "metadata": {},
   "outputs": [],
   "source": [
    "#  index could be non numeric\n",
    "\n",
    "#  index could be name,etc"
   ]
  },
  {
   "cell_type": "code",
   "execution_count": 9,
   "metadata": {},
   "outputs": [
    {
     "name": "stdout",
     "output_type": "stream",
     "text": [
      "a    100\n",
      "b    200\n",
      "c    300\n",
      "d    400\n",
      "dtype: int64\n"
     ]
    }
   ],
   "source": [
    "sales = pd.Series([100,200,300,400] , index = ['a', 'b', 'c', 'd'])\n",
    "print(sales)"
   ]
  },
  {
   "cell_type": "code",
   "execution_count": null,
   "metadata": {},
   "outputs": [],
   "source": [
    "#  we can find values and index seperately in seriese object"
   ]
  },
  {
   "cell_type": "code",
   "execution_count": 11,
   "metadata": {},
   "outputs": [
    {
     "name": "stdout",
     "output_type": "stream",
     "text": [
      "[100 200 300 400]\n"
     ]
    }
   ],
   "source": [
    "print(sales.values)   # print only values"
   ]
  },
  {
   "cell_type": "code",
   "execution_count": 12,
   "metadata": {},
   "outputs": [
    {
     "name": "stdout",
     "output_type": "stream",
     "text": [
      "Index(['a', 'b', 'c', 'd'], dtype='object')\n"
     ]
    }
   ],
   "source": [
    "print(sales.index)    #  print index only. if index are non numeric then dtype object\n",
    "\n",
    "###   In object we can store any data type or mixture"
   ]
  },
  {
   "cell_type": "code",
   "execution_count": 13,
   "metadata": {},
   "outputs": [
    {
     "name": "stdout",
     "output_type": "stream",
     "text": [
      "a    100\n",
      "b    200\n",
      "c    300\n",
      "d    400\n",
      "dtype: int64\n"
     ]
    }
   ],
   "source": [
    "print(sales)  display values,index and data type also"
   ]
  },
  {
   "cell_type": "code",
   "execution_count": 16,
   "metadata": {},
   "outputs": [
    {
     "name": "stdout",
     "output_type": "stream",
     "text": [
      "a    100\n",
      "b    200\n",
      "c    300\n",
      "d    400\n",
      "Name:  4 month sales, dtype: int64\n"
     ]
    }
   ],
   "source": [
    "sales = pd.Series([100,200,300,400] , index = ['a', 'b', 'c', 'd'], name = \" 4 month sales\")\n",
    "print(sales)                                                        # add new "
   ]
  },
  {
   "cell_type": "markdown",
   "metadata": {},
   "source": [
    "#  Create a panda series to store a conteen data to holds values of how many sanwiches are solds each day\n"
   ]
  },
  {
   "cell_type": "code",
   "execution_count": 19,
   "metadata": {},
   "outputs": [
    {
     "name": "stdout",
     "output_type": "stream",
     "text": [
      "mon    10\n",
      "tue    20\n",
      "wed    35\n",
      "thu    40\n",
      "fri    15\n",
      "sat    60\n",
      "sun    90\n",
      "dtype: int64\n"
     ]
    }
   ],
   "source": [
    "sw = pd.Series([10,20,35,40,15,60,90],\n",
    "               index = ['mon', 'tue', 'wed','thu', 'fri','sat', 'sun'])\n",
    "print(sw)"
   ]
  },
  {
   "cell_type": "code",
   "execution_count": 20,
   "metadata": {},
   "outputs": [],
   "source": [
    "# How we can find data"
   ]
  },
  {
   "cell_type": "code",
   "execution_count": 25,
   "metadata": {},
   "outputs": [
    {
     "name": "stdout",
     "output_type": "stream",
     "text": [
      "20\n"
     ]
    }
   ],
   "source": [
    " # for single data or value\n",
    "    \n",
    "print(sw[1])   #  numpy index"
   ]
  },
  {
   "cell_type": "code",
   "execution_count": 26,
   "metadata": {},
   "outputs": [
    {
     "name": "stdout",
     "output_type": "stream",
     "text": [
      "20\n"
     ]
    }
   ],
   "source": [
    "print(sw['tue'])   # pandas index ,we can define"
   ]
  },
  {
   "cell_type": "markdown",
   "metadata": {},
   "source": [
    "# used of array notation"
   ]
  },
  {
   "cell_type": "code",
   "execution_count": 27,
   "metadata": {},
   "outputs": [],
   "source": [
    "# for multiple data or vale"
   ]
  },
  {
   "cell_type": "code",
   "execution_count": 28,
   "metadata": {},
   "outputs": [
    {
     "name": "stdout",
     "output_type": "stream",
     "text": [
      "thu    40\n",
      "sun    90\n",
      "dtype: int64\n"
     ]
    }
   ],
   "source": [
    "print(sw[[3,6]])"
   ]
  },
  {
   "cell_type": "code",
   "execution_count": 30,
   "metadata": {},
   "outputs": [
    {
     "name": "stdout",
     "output_type": "stream",
     "text": [
      "thu    40\n",
      "sun    90\n",
      "dtype: int64\n"
     ]
    }
   ],
   "source": [
    "print(sw[['thu', 'sun']])"
   ]
  },
  {
   "cell_type": "code",
   "execution_count": 31,
   "metadata": {},
   "outputs": [],
   "source": [
    "# we can use condition for access data"
   ]
  },
  {
   "cell_type": "code",
   "execution_count": 32,
   "metadata": {},
   "outputs": [
    {
     "name": "stdout",
     "output_type": "stream",
     "text": [
      "wed    35\n",
      "thu    40\n",
      "sat    60\n",
      "sun    90\n",
      "dtype: int64\n"
     ]
    }
   ],
   "source": [
    "print(sw[sw > 30])"
   ]
  },
  {
   "cell_type": "code",
   "execution_count": 33,
   "metadata": {},
   "outputs": [
    {
     "data": {
      "text/plain": [
       "mon     20\n",
       "tue     40\n",
       "wed     70\n",
       "thu     80\n",
       "fri     30\n",
       "sat    120\n",
       "sun    180\n",
       "dtype: int64"
      ]
     },
     "execution_count": 33,
     "metadata": {},
     "output_type": "execute_result"
    }
   ],
   "source": [
    "sw *2   #  values multiply but not store in sw"
   ]
  },
  {
   "cell_type": "code",
   "execution_count": 34,
   "metadata": {},
   "outputs": [
    {
     "name": "stdout",
     "output_type": "stream",
     "text": [
      "mon    10\n",
      "tue    20\n",
      "wed    35\n",
      "thu    40\n",
      "fri    15\n",
      "sat    60\n",
      "sun    90\n",
      "dtype: int64\n"
     ]
    }
   ],
   "source": [
    "print(sw)    # not store"
   ]
  },
  {
   "cell_type": "code",
   "execution_count": 35,
   "metadata": {},
   "outputs": [
    {
     "name": "stdout",
     "output_type": "stream",
     "text": [
      "mon     20\n",
      "tue     40\n",
      "wed     70\n",
      "thu     80\n",
      "fri     30\n",
      "sat    120\n",
      "sun    180\n",
      "dtype: int64\n"
     ]
    }
   ],
   "source": [
    "sw = sw*2\n",
    "print(sw)"
   ]
  },
  {
   "cell_type": "code",
   "execution_count": 36,
   "metadata": {},
   "outputs": [
    {
     "data": {
      "text/plain": [
       "mon     20\n",
       "tue     40\n",
       "wed     70\n",
       "thu     80\n",
       "fri     30\n",
       "sat    120\n",
       "sun    180\n",
       "dtype: int64"
      ]
     },
     "execution_count": 36,
     "metadata": {},
     "output_type": "execute_result"
    }
   ],
   "source": [
    "sw         # store in sw"
   ]
  },
  {
   "cell_type": "code",
   "execution_count": 46,
   "metadata": {},
   "outputs": [
    {
     "name": "stdout",
     "output_type": "stream",
     "text": [
      "mon    10\n",
      "tue    20\n",
      "wed    35\n",
      "thu    40\n",
      "fri    15\n",
      "sat    60\n",
      "sun    90\n",
      "dtype: int64\n"
     ]
    }
   ],
   "source": [
    "sw = pd.Series([10,20,35,40,15,60,90],\n",
    "               index = ['mon', 'tue', 'wed','thu', 'fri','sat', 'sun'])\n",
    "print(sw)"
   ]
  },
  {
   "cell_type": "code",
   "execution_count": 47,
   "metadata": {},
   "outputs": [
    {
     "name": "stdout",
     "output_type": "stream",
     "text": [
      "mon     20\n",
      "tue     40\n",
      "wed     70\n",
      "thu     80\n",
      "fri     30\n",
      "sat    120\n",
      "sun    180\n",
      "dtype: int64\n"
     ]
    }
   ],
   "source": [
    "sw = sw*2\n",
    "print(sw)"
   ]
  },
  {
   "cell_type": "code",
   "execution_count": 48,
   "metadata": {},
   "outputs": [
    {
     "name": "stdout",
     "output_type": "stream",
     "text": [
      "mon    10.0\n",
      "tue    20.0\n",
      "wed    35.0\n",
      "thu    40.0\n",
      "fri    15.0\n",
      "sat    60.0\n",
      "sun    90.0\n",
      "dtype: float64\n"
     ]
    }
   ],
   "source": [
    "sw = sw / 2\n",
    "print(sw)"
   ]
  },
  {
   "cell_type": "code",
   "execution_count": 49,
   "metadata": {},
   "outputs": [],
   "source": [
    "# we can find any index "
   ]
  },
  {
   "cell_type": "code",
   "execution_count": 50,
   "metadata": {},
   "outputs": [
    {
     "data": {
      "text/plain": [
       "True"
      ]
     },
     "execution_count": 50,
     "metadata": {},
     "output_type": "execute_result"
    }
   ],
   "source": [
    "'fri' in sw"
   ]
  },
  {
   "cell_type": "code",
   "execution_count": null,
   "metadata": {},
   "outputs": [],
   "source": [
    "#  How we can use numpy array data in pandas"
   ]
  },
  {
   "cell_type": "code",
   "execution_count": 51,
   "metadata": {},
   "outputs": [],
   "source": [
    "import numpy as np"
   ]
  },
  {
   "cell_type": "code",
   "execution_count": 62,
   "metadata": {},
   "outputs": [
    {
     "name": "stdout",
     "output_type": "stream",
     "text": [
      "a    3\n",
      "b    2\n",
      "c    5\n",
      "d    4\n",
      "e    6\n",
      "dtype: int32\n"
     ]
    }
   ],
   "source": [
    "arr = np.array([3,2,5,4,6])\n",
    "ind = np.array(['a', 'b', 'c', 'd', 'e'])\n",
    "\n",
    "object = pd.Series( arr, index = ind)\n",
    "print(object)"
   ]
  },
  {
   "cell_type": "code",
   "execution_count": 63,
   "metadata": {},
   "outputs": [],
   "source": [
    "# we can also used dictionary in pandas"
   ]
  },
  {
   "cell_type": "code",
   "execution_count": 64,
   "metadata": {},
   "outputs": [
    {
     "name": "stdout",
     "output_type": "stream",
     "text": [
      "punjab         4000\n",
      "sindh          3000\n",
      "kpk            2500\n",
      "balochistan    2000\n",
      "dtype: int64\n"
     ]
    }
   ],
   "source": [
    "dic_data = {\"punjab\":4000, \"sindh\":3000, \"kpk\":2500, \"balochistan\":2000}\n",
    "tex_by_state = pd.Series(dic_data)\n",
    "print(tex_by_state)"
   ]
  },
  {
   "cell_type": "code",
   "execution_count": 65,
   "metadata": {},
   "outputs": [
    {
     "name": "stdout",
     "output_type": "stream",
     "text": [
      "Index(['punjab', 'sindh', 'kpk', 'balochistan'], dtype='object')\n"
     ]
    }
   ],
   "source": [
    "print(tex_by_state.index)"
   ]
  },
  {
   "cell_type": "code",
   "execution_count": null,
   "metadata": {},
   "outputs": [],
   "source": [
    "# We can also change index and value atomaticaly shuffle"
   ]
  },
  {
   "cell_type": "code",
   "execution_count": 66,
   "metadata": {},
   "outputs": [
    {
     "name": "stdout",
     "output_type": "stream",
     "text": [
      "sindh          3000\n",
      "punjab         4000\n",
      "kpk            2500\n",
      "balochistan    2000\n",
      "dtype: int64\n"
     ]
    }
   ],
   "source": [
    "dic_data = {\"punjab\":4000, \"sindh\":3000, \"kpk\":2500, \"balochistan\":2000}\n",
    "tex_by_state = pd.Series(dic_data, index = [\"sindh\", \"punjab\", \"kpk\", \"balochistan\"])\n",
    "print(tex_by_state)"
   ]
  },
  {
   "cell_type": "markdown",
   "metadata": {},
   "source": [
    "** Source for series data**\n",
    "* direct data in series method\n",
    "* numpy array\n",
    "*python list\n",
    "*dictionary\n"
   ]
  },
  {
   "cell_type": "code",
   "execution_count": 67,
   "metadata": {},
   "outputs": [],
   "source": [
    "# how we find null value"
   ]
  },
  {
   "cell_type": "code",
   "execution_count": 68,
   "metadata": {},
   "outputs": [
    {
     "name": "stdout",
     "output_type": "stream",
     "text": [
      "sindh          3000.0\n",
      "punjab         4000.0\n",
      "kpk            2500.0\n",
      "balochistan    2000.0\n",
      "gb                NaN\n",
      "dtype: float64\n"
     ]
    }
   ],
   "source": [
    "dic_data = {\"punjab\":4000, \"sindh\":3000, \"kpk\":2500, \"balochistan\":2000}\n",
    "tex_by_state = pd.Series(dic_data, index = [\"sindh\", \"punjab\", \"kpk\", \"balochistan\", \"gb\"])\n",
    "print(tex_by_state)"
   ]
  },
  {
   "cell_type": "code",
   "execution_count": 71,
   "metadata": {},
   "outputs": [
    {
     "name": "stdout",
     "output_type": "stream",
     "text": [
      "sindh          False\n",
      "punjab         False\n",
      "kpk            False\n",
      "balochistan    False\n",
      "gb              True\n",
      "dtype: bool\n"
     ]
    }
   ],
   "source": [
    "# NAN value mean, value does not exists in panda series\n",
    "dic_data = {\"punjab\":4000, \"sindh\":3000, \"kpk\":2500, \"balochistan\":2000}\n",
    "tex_by_state = pd.Series(dic_data, index = [\"sindh\", \"punjab\", \"kpk\", \"balochistan\", \"gb\"])\n",
    "print( pd.isnull (tex_by_state))"
   ]
  },
  {
   "cell_type": "code",
   "execution_count": 73,
   "metadata": {},
   "outputs": [
    {
     "name": "stdout",
     "output_type": "stream",
     "text": [
      "state name\n",
      "sindh          3000.0\n",
      "punjab         4000.0\n",
      "kpk            2500.0\n",
      "balochistan    2000.0\n",
      "gb                NaN\n",
      "Name: state tex paying capacity, dtype: float64\n",
      "Index(['sindh', 'punjab', 'kpk', 'balochistan', 'gb'], dtype='object', name='state name')\n"
     ]
    }
   ],
   "source": [
    "tex_by_state.name = \"state tex paying capacity\"\n",
    "tex_by_state.index.name = \"state name\"\n",
    "print(tex_by_state)\n",
    "print(tex_by_state.index)"
   ]
  },
  {
   "cell_type": "code",
   "execution_count": 75,
   "metadata": {},
   "outputs": [],
   "source": [
    " # we can also changed the index of panda series"
   ]
  },
  {
   "cell_type": "markdown",
   "metadata": {},
   "source": [
    "#  DataFrame "
   ]
  },
  {
   "cell_type": "code",
   "execution_count": 1,
   "metadata": {},
   "outputs": [],
   "source": [
    "#  we use dataframe in multiple dimension of data"
   ]
  },
  {
   "cell_type": "code",
   "execution_count": 2,
   "metadata": {},
   "outputs": [],
   "source": [
    "import pandas as pd"
   ]
  },
  {
   "cell_type": "code",
   "execution_count": 3,
   "metadata": {},
   "outputs": [],
   "source": [
    "data = {'state': ['Ohio', 'Ohio', 'Ohio', 'Nevada', 'Nevada', 'Nevada'],\n",
    " 'year': [2000, 2001, 2002, 2001, 2002, 2003],\n",
    " 'pop': [1.5, 1.7, 3.6, 2.4, 2.9, 3.2]}\n",
    "frame = pd.DataFrame(data)"
   ]
  },
  {
   "cell_type": "code",
   "execution_count": 4,
   "metadata": {},
   "outputs": [
    {
     "data": {
      "text/html": [
       "<div>\n",
       "<style scoped>\n",
       "    .dataframe tbody tr th:only-of-type {\n",
       "        vertical-align: middle;\n",
       "    }\n",
       "\n",
       "    .dataframe tbody tr th {\n",
       "        vertical-align: top;\n",
       "    }\n",
       "\n",
       "    .dataframe thead th {\n",
       "        text-align: right;\n",
       "    }\n",
       "</style>\n",
       "<table border=\"1\" class=\"dataframe\">\n",
       "  <thead>\n",
       "    <tr style=\"text-align: right;\">\n",
       "      <th></th>\n",
       "      <th>state</th>\n",
       "      <th>year</th>\n",
       "      <th>pop</th>\n",
       "    </tr>\n",
       "  </thead>\n",
       "  <tbody>\n",
       "    <tr>\n",
       "      <th>0</th>\n",
       "      <td>Ohio</td>\n",
       "      <td>2000</td>\n",
       "      <td>1.5</td>\n",
       "    </tr>\n",
       "    <tr>\n",
       "      <th>1</th>\n",
       "      <td>Ohio</td>\n",
       "      <td>2001</td>\n",
       "      <td>1.7</td>\n",
       "    </tr>\n",
       "    <tr>\n",
       "      <th>2</th>\n",
       "      <td>Ohio</td>\n",
       "      <td>2002</td>\n",
       "      <td>3.6</td>\n",
       "    </tr>\n",
       "    <tr>\n",
       "      <th>3</th>\n",
       "      <td>Nevada</td>\n",
       "      <td>2001</td>\n",
       "      <td>2.4</td>\n",
       "    </tr>\n",
       "    <tr>\n",
       "      <th>4</th>\n",
       "      <td>Nevada</td>\n",
       "      <td>2002</td>\n",
       "      <td>2.9</td>\n",
       "    </tr>\n",
       "    <tr>\n",
       "      <th>5</th>\n",
       "      <td>Nevada</td>\n",
       "      <td>2003</td>\n",
       "      <td>3.2</td>\n",
       "    </tr>\n",
       "  </tbody>\n",
       "</table>\n",
       "</div>"
      ],
      "text/plain": [
       "    state  year  pop\n",
       "0    Ohio  2000  1.5\n",
       "1    Ohio  2001  1.7\n",
       "2    Ohio  2002  3.6\n",
       "3  Nevada  2001  2.4\n",
       "4  Nevada  2002  2.9\n",
       "5  Nevada  2003  3.2"
      ]
     },
     "execution_count": 4,
     "metadata": {},
     "output_type": "execute_result"
    }
   ],
   "source": [
    "frame"
   ]
  },
  {
   "cell_type": "code",
   "execution_count": 5,
   "metadata": {},
   "outputs": [],
   "source": [
    "# We makes a dictionary"
   ]
  },
  {
   "cell_type": "code",
   "execution_count": 6,
   "metadata": {},
   "outputs": [
    {
     "name": "stdout",
     "output_type": "stream",
     "text": [
      "         state  years  pop\n",
      "0       punjab   2017  1.9\n",
      "1        sindh   2018  2.4\n",
      "2          kpk   2019  4.3\n",
      "3  balochistan   2020  5.2\n",
      "4       gilgit   2021  3.9\n"
     ]
    }
   ],
   "source": [
    "data = {'state':['punjab','sindh','kpk','balochistan','gilgit'],'years':[2017,2018,2019,2020,2021],'pop':[1.9,2.4,4.3,5.2,3.9]}\n",
    "frame = pd.DataFrame(data)\n",
    "print(frame)"
   ]
  },
  {
   "cell_type": "code",
   "execution_count": 7,
   "metadata": {},
   "outputs": [],
   "source": [
    "#  or other way"
   ]
  },
  {
   "cell_type": "code",
   "execution_count": 8,
   "metadata": {},
   "outputs": [],
   "source": [
    "state=['punjab','sindh','khyberpakhtonkha','balochistan','gilgit']\n",
    "years=[2017,2018,2019,2020,2021]\n",
    "population = [3.9,3.3,2.4,2.9,3.7]"
   ]
  },
  {
   "cell_type": "code",
   "execution_count": 12,
   "metadata": {},
   "outputs": [
    {
     "name": "stdout",
     "output_type": "stream",
     "text": [
      "              state   yer  pop\n",
      "0            punjab  2017  3.9\n",
      "1             sindh  2018  3.3\n",
      "2  khyberpakhtonkha  2019  2.4\n",
      "3       balochistan  2020  2.9\n",
      "4            gilgit  2021  3.7\n"
     ]
    }
   ],
   "source": [
    "data = {'state':state,'yer':years,'pop': population}\n",
    "frame = pd.DataFrame(data)\n",
    "print(frame)"
   ]
  },
  {
   "cell_type": "code",
   "execution_count": 13,
   "metadata": {},
   "outputs": [
    {
     "name": "stdout",
     "output_type": "stream",
     "text": [
      "                state   yer  pop\n",
      "1st            punjab  2017  3.9\n",
      "2nd             sindh  2018  3.3\n",
      "3rd  khyberpakhtonkha  2019  2.4\n",
      "4th       balochistan  2020  2.9\n",
      "5th            gilgit  2021  3.7\n"
     ]
    }
   ],
   "source": [
    "#  Indexes optional practice\n",
    "\n",
    "data = {'state':state,'yer':years,'pop': population}\n",
    "frame = pd.DataFrame(data ,index=['1st','2nd','3rd','4th','5th'])\n",
    "print(frame)"
   ]
  },
  {
   "cell_type": "code",
   "execution_count": 17,
   "metadata": {},
   "outputs": [
    {
     "name": "stdout",
     "output_type": "stream",
     "text": [
      "                state   yer  pop\n",
      "1st            punjab  2017  3.9\n",
      "2nd             sindh  2018  3.3\n",
      "3rd  khyberpakhtonkha  2019  2.4\n",
      "4th       balochistan  2020  2.9\n",
      "5th            gilgit  2021  3.7\n"
     ]
    }
   ],
   "source": [
    "#  Indexes optional practice\n",
    "\n",
    "data = {'state':state,'yer':years,'pop': population}\n",
    "frame = pd.DataFrame(data ,index=['1st','2nd','3rd','4th','5th'])\n",
    "print(frame)"
   ]
  },
  {
   "cell_type": "code",
   "execution_count": 18,
   "metadata": {},
   "outputs": [],
   "source": [
    "# if you have lot of data then you found first five value with head()"
   ]
  },
  {
   "cell_type": "code",
   "execution_count": 19,
   "metadata": {},
   "outputs": [
    {
     "data": {
      "text/html": [
       "<div>\n",
       "<style scoped>\n",
       "    .dataframe tbody tr th:only-of-type {\n",
       "        vertical-align: middle;\n",
       "    }\n",
       "\n",
       "    .dataframe tbody tr th {\n",
       "        vertical-align: top;\n",
       "    }\n",
       "\n",
       "    .dataframe thead th {\n",
       "        text-align: right;\n",
       "    }\n",
       "</style>\n",
       "<table border=\"1\" class=\"dataframe\">\n",
       "  <thead>\n",
       "    <tr style=\"text-align: right;\">\n",
       "      <th></th>\n",
       "      <th>state</th>\n",
       "      <th>yer</th>\n",
       "      <th>pop</th>\n",
       "    </tr>\n",
       "  </thead>\n",
       "  <tbody>\n",
       "    <tr>\n",
       "      <th>1st</th>\n",
       "      <td>punjab</td>\n",
       "      <td>2017</td>\n",
       "      <td>3.9</td>\n",
       "    </tr>\n",
       "    <tr>\n",
       "      <th>2nd</th>\n",
       "      <td>sindh</td>\n",
       "      <td>2018</td>\n",
       "      <td>3.3</td>\n",
       "    </tr>\n",
       "    <tr>\n",
       "      <th>3rd</th>\n",
       "      <td>khyberpakhtonkha</td>\n",
       "      <td>2019</td>\n",
       "      <td>2.4</td>\n",
       "    </tr>\n",
       "    <tr>\n",
       "      <th>4th</th>\n",
       "      <td>balochistan</td>\n",
       "      <td>2020</td>\n",
       "      <td>2.9</td>\n",
       "    </tr>\n",
       "    <tr>\n",
       "      <th>5th</th>\n",
       "      <td>gilgit</td>\n",
       "      <td>2021</td>\n",
       "      <td>3.7</td>\n",
       "    </tr>\n",
       "  </tbody>\n",
       "</table>\n",
       "</div>"
      ],
      "text/plain": [
       "                state   yer  pop\n",
       "1st            punjab  2017  3.9\n",
       "2nd             sindh  2018  3.3\n",
       "3rd  khyberpakhtonkha  2019  2.4\n",
       "4th       balochistan  2020  2.9\n",
       "5th            gilgit  2021  3.7"
      ]
     },
     "execution_count": 19,
     "metadata": {},
     "output_type": "execute_result"
    }
   ],
   "source": [
    "frame.head()"
   ]
  },
  {
   "cell_type": "code",
   "execution_count": 20,
   "metadata": {},
   "outputs": [],
   "source": [
    "#  We can sweap / change column"
   ]
  },
  {
   "cell_type": "code",
   "execution_count": 22,
   "metadata": {},
   "outputs": [
    {
     "name": "stdout",
     "output_type": "stream",
     "text": [
      "   years        state  pop\n",
      "0   2017       punjab  1.9\n",
      "1   2018        sindh  2.4\n",
      "2   2019          kpk  4.3\n",
      "3   2020  balochistan  5.2\n",
      "4   2021       gilgit  3.9\n"
     ]
    }
   ],
   "source": [
    "data = {'state':['punjab','sindh','kpk','balochistan','gilgit'],'years':[2017,2018,2019,2020,2021],'pop':[1.9,2.4,4.3,5.2,3.9]}\n",
    "frame = pd.DataFrame(data, columns = ['years', 'state', 'pop'])\n",
    "print(frame)"
   ]
  },
  {
   "cell_type": "code",
   "execution_count": 23,
   "metadata": {},
   "outputs": [
    {
     "data": {
      "text/html": [
       "<div>\n",
       "<style scoped>\n",
       "    .dataframe tbody tr th:only-of-type {\n",
       "        vertical-align: middle;\n",
       "    }\n",
       "\n",
       "    .dataframe tbody tr th {\n",
       "        vertical-align: top;\n",
       "    }\n",
       "\n",
       "    .dataframe thead th {\n",
       "        text-align: right;\n",
       "    }\n",
       "</style>\n",
       "<table border=\"1\" class=\"dataframe\">\n",
       "  <thead>\n",
       "    <tr style=\"text-align: right;\">\n",
       "      <th></th>\n",
       "      <th>years</th>\n",
       "      <th>state</th>\n",
       "      <th>pop</th>\n",
       "      <th>debt</th>\n",
       "    </tr>\n",
       "  </thead>\n",
       "  <tbody>\n",
       "    <tr>\n",
       "      <th>one</th>\n",
       "      <td>2017</td>\n",
       "      <td>punjab</td>\n",
       "      <td>1.9</td>\n",
       "      <td>NaN</td>\n",
       "    </tr>\n",
       "    <tr>\n",
       "      <th>two</th>\n",
       "      <td>2018</td>\n",
       "      <td>sindh</td>\n",
       "      <td>2.4</td>\n",
       "      <td>NaN</td>\n",
       "    </tr>\n",
       "    <tr>\n",
       "      <th>three</th>\n",
       "      <td>2019</td>\n",
       "      <td>kpk</td>\n",
       "      <td>4.3</td>\n",
       "      <td>NaN</td>\n",
       "    </tr>\n",
       "    <tr>\n",
       "      <th>four</th>\n",
       "      <td>2020</td>\n",
       "      <td>balochistan</td>\n",
       "      <td>5.2</td>\n",
       "      <td>NaN</td>\n",
       "    </tr>\n",
       "    <tr>\n",
       "      <th>five</th>\n",
       "      <td>2021</td>\n",
       "      <td>gilgit</td>\n",
       "      <td>3.9</td>\n",
       "      <td>NaN</td>\n",
       "    </tr>\n",
       "  </tbody>\n",
       "</table>\n",
       "</div>"
      ],
      "text/plain": [
       "       years        state  pop debt\n",
       "one     2017       punjab  1.9  NaN\n",
       "two     2018        sindh  2.4  NaN\n",
       "three   2019          kpk  4.3  NaN\n",
       "four    2020  balochistan  5.2  NaN\n",
       "five    2021       gilgit  3.9  NaN"
      ]
     },
     "execution_count": 23,
     "metadata": {},
     "output_type": "execute_result"
    }
   ],
   "source": [
    "frame2 = pd.DataFrame(data, columns = ['years', 'state','pop','debt'],\n",
    "                      index = ['one','two','three', 'four','five'])\n",
    "\n",
    "frame2.head()"
   ]
  },
  {
   "cell_type": "code",
   "execution_count": 24,
   "metadata": {},
   "outputs": [
    {
     "data": {
      "text/plain": [
       "Index(['years', 'state', 'pop', 'debt'], dtype='object')"
      ]
     },
     "execution_count": 24,
     "metadata": {},
     "output_type": "execute_result"
    }
   ],
   "source": [
    "#  It is not index \n",
    "#   these are colums\n",
    "frame2.columns"
   ]
  },
  {
   "cell_type": "code",
   "execution_count": 25,
   "metadata": {},
   "outputs": [
    {
     "data": {
      "text/plain": [
       "Index(['one', 'two', 'three', 'four', 'five'], dtype='object')"
      ]
     },
     "execution_count": 25,
     "metadata": {},
     "output_type": "execute_result"
    }
   ],
   "source": [
    "# these are index\n",
    "frame2.index"
   ]
  },
  {
   "cell_type": "code",
   "execution_count": 29,
   "metadata": {},
   "outputs": [
    {
     "name": "stdout",
     "output_type": "stream",
     "text": [
      "Index(['years', 'state', 'pop', 'debt'], dtype='object')\n",
      "Index(['one', 'two', 'three', 'four', 'five'], dtype='object')\n"
     ]
    }
   ],
   "source": [
    "print(frame2.columns)\n",
    "print(frame2.index)"
   ]
  },
  {
   "cell_type": "code",
   "execution_count": 11,
   "metadata": {},
   "outputs": [
    {
     "name": "stdout",
     "output_type": "stream",
     "text": [
      "   years        state  pop\n",
      "0   2017       punjab  1.9\n",
      "1   2018        sindh  2.4\n",
      "2   2019          kpk  4.3\n",
      "3   2020  balochistan  5.2\n",
      "4   2021       gilgit  3.9\n"
     ]
    }
   ],
   "source": [
    "data = {'state':['punjab','sindh','kpk','balochistan','gilgit'],'years':[2017,2018,2019,2020,2021],'pop':[1.9,2.4,4.3,5.2,3.9]}\n",
    "frame = pd.DataFrame(data, columns = ['years', 'state', 'pop'])\n",
    "print(frame)"
   ]
  },
  {
   "cell_type": "code",
   "execution_count": 12,
   "metadata": {},
   "outputs": [
    {
     "name": "stdout",
     "output_type": "stream",
     "text": [
      "       years        state  pop debt\n",
      "one     2017       punjab  1.9  NaN\n",
      "two     2018        sindh  2.4  NaN\n",
      "three   2019          kpk  4.3  NaN\n",
      "four    2020  balochistan  5.2  NaN\n",
      "five    2021       gilgit  3.9  NaN\n"
     ]
    }
   ],
   "source": [
    "\n",
    "frame2 = pd.DataFrame(data, columns = ['years', 'state','pop','debt'],\n",
    "                      index = ['one','two','three', 'four','five'])\n",
    "print(frame2)"
   ]
  },
  {
   "cell_type": "code",
   "execution_count": 13,
   "metadata": {},
   "outputs": [
    {
     "data": {
      "text/html": [
       "<div>\n",
       "<style scoped>\n",
       "    .dataframe tbody tr th:only-of-type {\n",
       "        vertical-align: middle;\n",
       "    }\n",
       "\n",
       "    .dataframe tbody tr th {\n",
       "        vertical-align: top;\n",
       "    }\n",
       "\n",
       "    .dataframe thead th {\n",
       "        text-align: right;\n",
       "    }\n",
       "</style>\n",
       "<table border=\"1\" class=\"dataframe\">\n",
       "  <thead>\n",
       "    <tr style=\"text-align: right;\">\n",
       "      <th></th>\n",
       "      <th>years</th>\n",
       "      <th>state</th>\n",
       "      <th>pop</th>\n",
       "      <th>debt</th>\n",
       "    </tr>\n",
       "  </thead>\n",
       "  <tbody>\n",
       "    <tr>\n",
       "      <th>one</th>\n",
       "      <td>2017</td>\n",
       "      <td>punjab</td>\n",
       "      <td>1.9</td>\n",
       "      <td>NaN</td>\n",
       "    </tr>\n",
       "    <tr>\n",
       "      <th>two</th>\n",
       "      <td>2018</td>\n",
       "      <td>sindh</td>\n",
       "      <td>2.4</td>\n",
       "      <td>NaN</td>\n",
       "    </tr>\n",
       "    <tr>\n",
       "      <th>three</th>\n",
       "      <td>2019</td>\n",
       "      <td>kpk</td>\n",
       "      <td>4.3</td>\n",
       "      <td>NaN</td>\n",
       "    </tr>\n",
       "    <tr>\n",
       "      <th>four</th>\n",
       "      <td>2020</td>\n",
       "      <td>balochistan</td>\n",
       "      <td>5.2</td>\n",
       "      <td>NaN</td>\n",
       "    </tr>\n",
       "    <tr>\n",
       "      <th>five</th>\n",
       "      <td>2021</td>\n",
       "      <td>gilgit</td>\n",
       "      <td>3.9</td>\n",
       "      <td>NaN</td>\n",
       "    </tr>\n",
       "  </tbody>\n",
       "</table>\n",
       "</div>"
      ],
      "text/plain": [
       "       years        state  pop debt\n",
       "one     2017       punjab  1.9  NaN\n",
       "two     2018        sindh  2.4  NaN\n",
       "three   2019          kpk  4.3  NaN\n",
       "four    2020  balochistan  5.2  NaN\n",
       "five    2021       gilgit  3.9  NaN"
      ]
     },
     "execution_count": 13,
     "metadata": {},
     "output_type": "execute_result"
    }
   ],
   "source": [
    "frame2.head()"
   ]
  },
  {
   "cell_type": "markdown",
   "metadata": {},
   "source": [
    "# A column in data frame can be reterived as a series either by dictionary - likes notation or by Attributes"
   ]
  },
  {
   "cell_type": "code",
   "execution_count": 14,
   "metadata": {},
   "outputs": [
    {
     "name": "stdout",
     "output_type": "stream",
     "text": [
      "{'state': ['punjab', 'sindh', 'kpk', 'balochistan', 'gilgit'], 'years': [2017, 2018, 2019, 2020, 2021], 'pop': [1.9, 2.4, 4.3, 5.2, 3.9]}\n"
     ]
    }
   ],
   "source": [
    "print(data)"
   ]
  },
  {
   "cell_type": "markdown",
   "metadata": {},
   "source": [
    "# Dictionary like notation"
   ]
  },
  {
   "cell_type": "code",
   "execution_count": 16,
   "metadata": {},
   "outputs": [
    {
     "name": "stdout",
     "output_type": "stream",
     "text": [
      "   years        state  pop\n",
      "0   2017       punjab  1.9\n",
      "1   2018        sindh  2.4\n",
      "2   2019          kpk  4.3\n",
      "3   2020  balochistan  5.2\n",
      "4   2021       gilgit  3.9\n",
      "       years        state  pop debt\n",
      "one     2017       punjab  1.9  NaN\n",
      "two     2018        sindh  2.4  NaN\n",
      "three   2019          kpk  4.3  NaN\n",
      "four    2020  balochistan  5.2  NaN\n",
      "five    2021       gilgit  3.9  NaN\n"
     ]
    }
   ],
   "source": [
    "print(frame)\n",
    "                  #  these are two dictionaries\n",
    "print(frame2)"
   ]
  },
  {
   "cell_type": "code",
   "execution_count": 17,
   "metadata": {},
   "outputs": [
    {
     "data": {
      "text/plain": [
       "0         punjab\n",
       "1          sindh\n",
       "2            kpk\n",
       "3    balochistan\n",
       "4         gilgit\n",
       "Name: state, dtype: object"
      ]
     },
     "execution_count": 17,
     "metadata": {},
     "output_type": "execute_result"
    }
   ],
   "source": [
    "frame['state']\n",
    "\n",
    "#  This is a dictionary like notation to access or extract column in dataframe"
   ]
  },
  {
   "cell_type": "code",
   "execution_count": 19,
   "metadata": {},
   "outputs": [
    {
     "data": {
      "text/plain": [
       "one      1.9\n",
       "two      2.4\n",
       "three    4.3\n",
       "four     5.2\n",
       "five     3.9\n",
       "Name: pop, dtype: float64"
      ]
     },
     "execution_count": 19,
     "metadata": {},
     "output_type": "execute_result"
    }
   ],
   "source": [
    "#frame2['years']\n",
    "\n",
    "frame2['pop']"
   ]
  },
  {
   "cell_type": "code",
   "execution_count": 20,
   "metadata": {},
   "outputs": [
    {
     "data": {
      "text/plain": [
       "one           punjab\n",
       "two            sindh\n",
       "three            kpk\n",
       "four     balochistan\n",
       "five          gilgit\n",
       "Name: state, dtype: object"
      ]
     },
     "execution_count": 20,
     "metadata": {},
     "output_type": "execute_result"
    }
   ],
   "source": [
    "#    There frame2 is an other method , attributes style accessing\n",
    "#    dataframe data\n",
    "\n",
    "frame2.state"
   ]
  },
  {
   "cell_type": "code",
   "execution_count": 22,
   "metadata": {},
   "outputs": [
    {
     "name": "stdout",
     "output_type": "stream",
     "text": [
      "       years        state  pop debt\n",
      "one     2017       punjab  1.9  NaN\n",
      "two     2018        sindh  2.4  NaN\n",
      "three   2019          kpk  4.3  NaN\n",
      "four    2020  balochistan  5.2  NaN\n",
      "five    2021       gilgit  3.9  NaN\n"
     ]
    }
   ],
   "source": [
    "print(frame2)"
   ]
  },
  {
   "cell_type": "code",
   "execution_count": 21,
   "metadata": {},
   "outputs": [
    {
     "data": {
      "text/plain": [
       "years      2017\n",
       "state    punjab\n",
       "pop         1.9\n",
       "debt        NaN\n",
       "Name: one, dtype: object"
      ]
     },
     "execution_count": 21,
     "metadata": {},
     "output_type": "execute_result"
    }
   ],
   "source": [
    "#  if we find row ,we use these method\n",
    "\n",
    "frame2.loc['one']"
   ]
  },
  {
   "cell_type": "code",
   "execution_count": 23,
   "metadata": {},
   "outputs": [
    {
     "data": {
      "text/plain": [
       "years    2019\n",
       "state     kpk\n",
       "pop       4.3\n",
       "debt      NaN\n",
       "Name: three, dtype: object"
      ]
     },
     "execution_count": 23,
     "metadata": {},
     "output_type": "execute_result"
    }
   ],
   "source": [
    "frame2.loc['three']"
   ]
  },
  {
   "cell_type": "code",
   "execution_count": 24,
   "metadata": {},
   "outputs": [
    {
     "name": "stdout",
     "output_type": "stream",
     "text": [
      "years      2021\n",
      "state    gilgit\n",
      "pop         3.9\n",
      "debt        NaN\n",
      "Name: five, dtype: object\n"
     ]
    }
   ],
   "source": [
    "print(frame2.loc['five'])"
   ]
  },
  {
   "cell_type": "code",
   "execution_count": null,
   "metadata": {},
   "outputs": [],
   "source": [
    "#  there we can replaced NaN value "
   ]
  },
  {
   "cell_type": "code",
   "execution_count": 25,
   "metadata": {},
   "outputs": [
    {
     "data": {
      "text/html": [
       "<div>\n",
       "<style scoped>\n",
       "    .dataframe tbody tr th:only-of-type {\n",
       "        vertical-align: middle;\n",
       "    }\n",
       "\n",
       "    .dataframe tbody tr th {\n",
       "        vertical-align: top;\n",
       "    }\n",
       "\n",
       "    .dataframe thead th {\n",
       "        text-align: right;\n",
       "    }\n",
       "</style>\n",
       "<table border=\"1\" class=\"dataframe\">\n",
       "  <thead>\n",
       "    <tr style=\"text-align: right;\">\n",
       "      <th></th>\n",
       "      <th>years</th>\n",
       "      <th>state</th>\n",
       "      <th>pop</th>\n",
       "      <th>debt</th>\n",
       "    </tr>\n",
       "  </thead>\n",
       "  <tbody>\n",
       "    <tr>\n",
       "      <th>one</th>\n",
       "      <td>2017</td>\n",
       "      <td>punjab</td>\n",
       "      <td>1.9</td>\n",
       "      <td>NaN</td>\n",
       "    </tr>\n",
       "    <tr>\n",
       "      <th>two</th>\n",
       "      <td>2018</td>\n",
       "      <td>sindh</td>\n",
       "      <td>2.4</td>\n",
       "      <td>NaN</td>\n",
       "    </tr>\n",
       "    <tr>\n",
       "      <th>three</th>\n",
       "      <td>2019</td>\n",
       "      <td>kpk</td>\n",
       "      <td>4.3</td>\n",
       "      <td>NaN</td>\n",
       "    </tr>\n",
       "    <tr>\n",
       "      <th>four</th>\n",
       "      <td>2020</td>\n",
       "      <td>balochistan</td>\n",
       "      <td>5.2</td>\n",
       "      <td>NaN</td>\n",
       "    </tr>\n",
       "    <tr>\n",
       "      <th>five</th>\n",
       "      <td>2021</td>\n",
       "      <td>gilgit</td>\n",
       "      <td>3.9</td>\n",
       "      <td>NaN</td>\n",
       "    </tr>\n",
       "  </tbody>\n",
       "</table>\n",
       "</div>"
      ],
      "text/plain": [
       "       years        state  pop debt\n",
       "one     2017       punjab  1.9  NaN\n",
       "two     2018        sindh  2.4  NaN\n",
       "three   2019          kpk  4.3  NaN\n",
       "four    2020  balochistan  5.2  NaN\n",
       "five    2021       gilgit  3.9  NaN"
      ]
     },
     "execution_count": 25,
     "metadata": {},
     "output_type": "execute_result"
    }
   ],
   "source": [
    "frame2"
   ]
  },
  {
   "cell_type": "code",
   "execution_count": 27,
   "metadata": {},
   "outputs": [
    {
     "name": "stdout",
     "output_type": "stream",
     "text": [
      "       years        state  pop debt\n",
      "one     2017       punjab  1.9  NaN\n",
      "two     2018        sindh  2.4  NaN\n",
      "three   2019          kpk  4.3  NaN\n",
      "four    2020  balochistan  5.2  NaN\n",
      "five    2021       gilgit  3.9  NaN\n"
     ]
    }
   ],
   "source": [
    "data = {'state':['punjab','sindh','kpk','balochistan','gilgit'],'years':[2017,2018,2019,2020,2021],'pop':[1.9,2.4,4.3,5.2,3.9]}\n",
    "#frame = pd.DataFrame(data, columns = ['years', 'state', 'pop']\n",
    "\n",
    "frame2 = pd.DataFrame(data, columns = ['years', 'state','pop','debt'],\n",
    "                      index = ['one','two','three', 'four','five'])\n",
    "print(frame2)"
   ]
  },
  {
   "cell_type": "code",
   "execution_count": 33,
   "metadata": {},
   "outputs": [
    {
     "name": "stdout",
     "output_type": "stream",
     "text": [
      "[0 1 2 3 4]\n",
      "       years        state  pop  debt\n",
      "one     2017       punjab  1.9     0\n",
      "two     2018        sindh  2.4     1\n",
      "three   2019          kpk  4.3     2\n",
      "four    2020  balochistan  5.2     3\n",
      "five    2021       gilgit  3.9     4\n"
     ]
    }
   ],
   "source": [
    "\n",
    "data = {'state':['punjab','sindh','kpk','balochistan','gilgit'],'years':[2017,2018,2019,2020,2021],'pop':[1.9,2.4,4.3,5.2,3.9]}\n",
    "#frame = pd.DataFrame(data, columns = ['years', 'state', 'pop']\n",
    "\n",
    "frame2 = pd.DataFrame(data, columns = ['years', 'state','pop','debt'],\n",
    "                      index = ['one','two','three', 'four','five'])\n",
    "\n",
    "ln = len(frame2)    #  Finding num of rows in dataframe\n",
    "# print(frame2)\n",
    "rnge = np.arange(ln)\n",
    "print(rnge)\n",
    "frame2['debt'] = rnge\n",
    "print(frame2)\n"
   ]
  },
  {
   "cell_type": "markdown",
   "metadata": {},
   "source": [
    "#  Remember that , inserting new values, neede to be match in length ( number of elements)"
   ]
  },
  {
   "cell_type": "code",
   "execution_count": 3,
   "metadata": {},
   "outputs": [
    {
     "name": "stdout",
     "output_type": "stream",
     "text": [
      "       years        state  pop  debt\n",
      "one     2017       punjab  1.9    37\n",
      "two     2018        sindh  2.4    37\n",
      "three   2019          kpk  4.3    37\n",
      "four    2020  balochistan  5.2    37\n",
      "five    2021       gilgit  3.9    37\n"
     ]
    }
   ],
   "source": [
    "import pandas as pd\n",
    "data = {'state':['punjab','sindh','kpk','balochistan','gilgit'],'years':[2017,2018,2019,2020,2021],'pop':[1.9,2.4,4.3,5.2,3.9]}\n",
    "\n",
    "frame2 = pd.DataFrame(data, columns = ['years', 'state','pop','debt'],\n",
    "                      index = ['one','two','three', 'four','five'])\n",
    "\n",
    "frame2['debt'] = 37\n",
    "print(frame2)\n"
   ]
  },
  {
   "cell_type": "code",
   "execution_count": 5,
   "metadata": {},
   "outputs": [
    {
     "data": {
      "text/html": [
       "<div>\n",
       "<style scoped>\n",
       "    .dataframe tbody tr th:only-of-type {\n",
       "        vertical-align: middle;\n",
       "    }\n",
       "\n",
       "    .dataframe tbody tr th {\n",
       "        vertical-align: top;\n",
       "    }\n",
       "\n",
       "    .dataframe thead th {\n",
       "        text-align: right;\n",
       "    }\n",
       "</style>\n",
       "<table border=\"1\" class=\"dataframe\">\n",
       "  <thead>\n",
       "    <tr style=\"text-align: right;\">\n",
       "      <th></th>\n",
       "      <th>years</th>\n",
       "      <th>state</th>\n",
       "      <th>pop</th>\n",
       "      <th>debt</th>\n",
       "    </tr>\n",
       "  </thead>\n",
       "  <tbody>\n",
       "    <tr>\n",
       "      <th>one</th>\n",
       "      <td>2017</td>\n",
       "      <td>punjab</td>\n",
       "      <td>1.9</td>\n",
       "      <td>1.2</td>\n",
       "    </tr>\n",
       "    <tr>\n",
       "      <th>two</th>\n",
       "      <td>2018</td>\n",
       "      <td>sindh</td>\n",
       "      <td>2.4</td>\n",
       "      <td>3.2</td>\n",
       "    </tr>\n",
       "    <tr>\n",
       "      <th>three</th>\n",
       "      <td>2019</td>\n",
       "      <td>kpk</td>\n",
       "      <td>4.3</td>\n",
       "      <td>-2.2</td>\n",
       "    </tr>\n",
       "    <tr>\n",
       "      <th>four</th>\n",
       "      <td>2020</td>\n",
       "      <td>balochistan</td>\n",
       "      <td>5.2</td>\n",
       "      <td>-0.5</td>\n",
       "    </tr>\n",
       "    <tr>\n",
       "      <th>five</th>\n",
       "      <td>2021</td>\n",
       "      <td>gilgit</td>\n",
       "      <td>3.9</td>\n",
       "      <td>9.7</td>\n",
       "    </tr>\n",
       "  </tbody>\n",
       "</table>\n",
       "</div>"
      ],
      "text/plain": [
       "       years        state  pop  debt\n",
       "one     2017       punjab  1.9   1.2\n",
       "two     2018        sindh  2.4   3.2\n",
       "three   2019          kpk  4.3  -2.2\n",
       "four    2020  balochistan  5.2  -0.5\n",
       "five    2021       gilgit  3.9   9.7"
      ]
     },
     "execution_count": 5,
     "metadata": {},
     "output_type": "execute_result"
    }
   ],
   "source": [
    "val =pd.Series ([1.2, 3.2, -2.2,-0.5,9.7],      #  column of debt , assigned a series\n",
    "                index = ['one', 'two', 'three', 'four','five'])\n",
    "\n",
    "frame2['debt'] = val\n",
    "frame2.head()"
   ]
  },
  {
   "cell_type": "code",
   "execution_count": 6,
   "metadata": {},
   "outputs": [
    {
     "ename": "ValueError",
     "evalue": "Length of passed values is 6, index implies 5.",
     "output_type": "error",
     "traceback": [
      "\u001b[1;31m---------------------------------------------------------------------------\u001b[0m",
      "\u001b[1;31mValueError\u001b[0m                                Traceback (most recent call last)",
      "\u001b[1;32m<ipython-input-6-7701295db2bf>\u001b[0m in \u001b[0;36m<module>\u001b[1;34m\u001b[0m\n\u001b[1;32m----> 1\u001b[1;33m val =pd.Series ([1.2, 3.2, -2.2,-0.5,9.7,-4.7],      #  column of debt , assigned a series\n\u001b[0m\u001b[0;32m      2\u001b[0m                 index = ['one', 'two', 'three', 'four','five'])\n\u001b[0;32m      3\u001b[0m \u001b[1;33m\u001b[0m\u001b[0m\n\u001b[0;32m      4\u001b[0m \u001b[0mframe2\u001b[0m\u001b[1;33m[\u001b[0m\u001b[1;34m'debt'\u001b[0m\u001b[1;33m]\u001b[0m \u001b[1;33m=\u001b[0m \u001b[0mval\u001b[0m\u001b[1;33m\u001b[0m\u001b[1;33m\u001b[0m\u001b[0m\n\u001b[0;32m      5\u001b[0m \u001b[0mframe2\u001b[0m\u001b[1;33m.\u001b[0m\u001b[0mhead\u001b[0m\u001b[1;33m(\u001b[0m\u001b[1;33m)\u001b[0m\u001b[1;33m\u001b[0m\u001b[1;33m\u001b[0m\u001b[0m\n",
      "\u001b[1;32m~\\anaconda3\\lib\\site-packages\\pandas\\core\\series.py\u001b[0m in \u001b[0;36m__init__\u001b[1;34m(self, data, index, dtype, name, copy, fastpath)\u001b[0m\n\u001b[0;32m    311\u001b[0m                 \u001b[1;32mtry\u001b[0m\u001b[1;33m:\u001b[0m\u001b[1;33m\u001b[0m\u001b[1;33m\u001b[0m\u001b[0m\n\u001b[0;32m    312\u001b[0m                     \u001b[1;32mif\u001b[0m \u001b[0mlen\u001b[0m\u001b[1;33m(\u001b[0m\u001b[0mindex\u001b[0m\u001b[1;33m)\u001b[0m \u001b[1;33m!=\u001b[0m \u001b[0mlen\u001b[0m\u001b[1;33m(\u001b[0m\u001b[0mdata\u001b[0m\u001b[1;33m)\u001b[0m\u001b[1;33m:\u001b[0m\u001b[1;33m\u001b[0m\u001b[1;33m\u001b[0m\u001b[0m\n\u001b[1;32m--> 313\u001b[1;33m                         raise ValueError(\n\u001b[0m\u001b[0;32m    314\u001b[0m                             \u001b[1;34mf\"Length of passed values is {len(data)}, \"\u001b[0m\u001b[1;33m\u001b[0m\u001b[1;33m\u001b[0m\u001b[0m\n\u001b[0;32m    315\u001b[0m                             \u001b[1;34mf\"index implies {len(index)}.\"\u001b[0m\u001b[1;33m\u001b[0m\u001b[1;33m\u001b[0m\u001b[0m\n",
      "\u001b[1;31mValueError\u001b[0m: Length of passed values is 6, index implies 5."
     ]
    }
   ],
   "source": [
    "val =pd.Series ([1.2, 3.2, -2.2,-0.5,9.7,-4.7],     #  Length of passed values is 6, index implies 5.\n",
    "                                                    # Error occour\n",
    "                index = ['one', 'two', 'three', 'four','five'])\n",
    "\n",
    "frame2['debt'] = val\n",
    "frame2.head()"
   ]
  },
  {
   "cell_type": "code",
   "execution_count": 8,
   "metadata": {},
   "outputs": [
    {
     "data": {
      "text/html": [
       "<div>\n",
       "<style scoped>\n",
       "    .dataframe tbody tr th:only-of-type {\n",
       "        vertical-align: middle;\n",
       "    }\n",
       "\n",
       "    .dataframe tbody tr th {\n",
       "        vertical-align: top;\n",
       "    }\n",
       "\n",
       "    .dataframe thead th {\n",
       "        text-align: right;\n",
       "    }\n",
       "</style>\n",
       "<table border=\"1\" class=\"dataframe\">\n",
       "  <thead>\n",
       "    <tr style=\"text-align: right;\">\n",
       "      <th></th>\n",
       "      <th>years</th>\n",
       "      <th>state</th>\n",
       "      <th>pop</th>\n",
       "      <th>debt</th>\n",
       "    </tr>\n",
       "  </thead>\n",
       "  <tbody>\n",
       "    <tr>\n",
       "      <th>one</th>\n",
       "      <td>2017</td>\n",
       "      <td>punjab</td>\n",
       "      <td>1.9</td>\n",
       "      <td>1.2</td>\n",
       "    </tr>\n",
       "    <tr>\n",
       "      <th>two</th>\n",
       "      <td>2018</td>\n",
       "      <td>sindh</td>\n",
       "      <td>2.4</td>\n",
       "      <td>NaN</td>\n",
       "    </tr>\n",
       "    <tr>\n",
       "      <th>three</th>\n",
       "      <td>2019</td>\n",
       "      <td>kpk</td>\n",
       "      <td>4.3</td>\n",
       "      <td>-2.2</td>\n",
       "    </tr>\n",
       "    <tr>\n",
       "      <th>four</th>\n",
       "      <td>2020</td>\n",
       "      <td>balochistan</td>\n",
       "      <td>5.2</td>\n",
       "      <td>-0.5</td>\n",
       "    </tr>\n",
       "    <tr>\n",
       "      <th>five</th>\n",
       "      <td>2021</td>\n",
       "      <td>gilgit</td>\n",
       "      <td>3.9</td>\n",
       "      <td>9.7</td>\n",
       "    </tr>\n",
       "  </tbody>\n",
       "</table>\n",
       "</div>"
      ],
      "text/plain": [
       "       years        state  pop  debt\n",
       "one     2017       punjab  1.9   1.2\n",
       "two     2018        sindh  2.4   NaN\n",
       "three   2019          kpk  4.3  -2.2\n",
       "four    2020  balochistan  5.2  -0.5\n",
       "five    2021       gilgit  3.9   9.7"
      ]
     },
     "execution_count": 8,
     "metadata": {},
     "output_type": "execute_result"
    }
   ],
   "source": [
    "val =pd.Series ([1.2, 3.2, -2.2,-0.5,9.7],   \n",
    "                index = ['one', 'pak', 'three', 'four','five'])\n",
    "                            #  Series and DaraFrame indexes must be same, if index name is not same then show there NaN\n",
    "frame2['debt'] = val\n",
    "frame2.head()"
   ]
  },
  {
   "cell_type": "markdown",
   "metadata": {},
   "source": [
    "# Function Application and Mapping"
   ]
  },
  {
   "cell_type": "code",
   "execution_count": 15,
   "metadata": {},
   "outputs": [
    {
     "name": "stdout",
     "output_type": "stream",
     "text": [
      "                   b         d         e\n",
      "lahore      0.842605 -1.355124  0.361847\n",
      "bahawalpur  0.086141 -0.012537  1.714211\n",
      "karachi    -0.613379  0.911665 -0.620434\n",
      "multan     -0.509568  1.842854  1.122673\n"
     ]
    }
   ],
   "source": [
    "import pandas as pd\n",
    "import numpy as np\n",
    "\n",
    "frame3 = pd.DataFrame (np.random.randn(4,3), columns = list('bde'),\n",
    "                              index = ['lahore', 'bahawalpur', 'karachi', 'multan'])\n",
    "\n",
    "print(frame3)\n"
   ]
  },
  {
   "cell_type": "code",
   "execution_count": 16,
   "metadata": {},
   "outputs": [
    {
     "name": "stdout",
     "output_type": "stream",
     "text": [
      "                   b         d         e\n",
      "lahore      1.126847 -0.045868  0.075699\n",
      "bahawalpur -1.241057 -0.599871 -1.500992\n",
      "karachi    -0.765867 -1.988766  1.854844\n",
      "multan     -0.025768 -0.489770 -0.580077\n",
      "                   b         d         e\n",
      "lahore      1.126847  0.045868  0.075699\n",
      "bahawalpur  1.241057  0.599871  1.500992\n",
      "karachi     0.765867  1.988766  1.854844\n",
      "multan      0.025768  0.489770  0.580077\n"
     ]
    }
   ],
   "source": [
    "\n",
    "frame3 = pd.DataFrame (np.random.randn(4,3), columns = list('bde'),\n",
    "                              index = ['lahore', 'bahawalpur', 'karachi', 'multan'])\n",
    "\n",
    "print(frame3)\n",
    "print(np.abs(frame3))    #  abs function convert negative values into positive values\n"
   ]
  },
  {
   "cell_type": "code",
   "execution_count": 23,
   "metadata": {},
   "outputs": [
    {
     "name": "stdout",
     "output_type": "stream",
     "text": [
      "                   b         d         e\n",
      "lahore     -0.814032  0.882637 -0.319169\n",
      "bahawalpur -0.716620  0.587918 -0.422383\n",
      "karachi    -0.509567 -0.893871 -0.279014\n",
      "multan      1.198797 -1.236192 -1.980809\n",
      "-1.2361917109915523\n",
      "0.8826374346996682\n",
      "2.1188291456912207\n"
     ]
    }
   ],
   "source": [
    "\n",
    "frame3 = pd.DataFrame (np.random.randn(4,3), columns = list('bde'),\n",
    "                              index = ['lahore', 'bahawalpur', 'karachi', 'multan'])\n",
    "\n",
    "print(frame3)\n",
    "#  print(np.abs(frame3))    #  abs function convert negative values into positives\n",
    "\n",
    "print(frame3['d'].min())    #  columns d ,find minimum value\n",
    "print(frame3['d'].max())    #  columns d, find maximum value\n",
    "print(frame3['d'].max() - frame3['d'].min())      #  In column d, subtracting minimum value in maximum value"
   ]
  },
  {
   "cell_type": "code",
   "execution_count": 32,
   "metadata": {},
   "outputs": [
    {
     "name": "stdout",
     "output_type": "stream",
     "text": [
      "                   b         d         e\n",
      "lahore      0.648578 -1.151926  0.593820\n",
      "bahawalpur -0.039923  0.370504 -0.623413\n",
      "karachi     1.415547 -0.592531  0.258142\n",
      "multan     -1.071753 -0.909579  0.613447\n",
      "b    1.770147\n",
      "d    1.579227\n",
      "e    0.608786\n",
      "dtype: float64 <class 'pandas.core.series.Series'>\n"
     ]
    }
   ],
   "source": [
    "frame3 = pd.DataFrame (np.random.randn(4,3), columns = list('bde'),\n",
    "                              index = ['lahore', 'bahawalpur', 'karachi', 'multan'])\n",
    "\n",
    "print(frame3)\n",
    "f = lambda x: x.max() - x.min()   #  here ,column d , find max and min then subtracting min into max and assign to x\n",
    "df = frame.apply(f)               #    apply same on three columns\n",
    "print(df,type(df))\n"
   ]
  },
  {
   "cell_type": "code",
   "execution_count": 37,
   "metadata": {},
   "outputs": [
    {
     "name": "stdout",
     "output_type": "stream",
     "text": [
      "                   b         d         e\n",
      "lahore     -1.155702  0.972328  0.759126\n",
      "bahawalpur  0.151962 -0.085491  0.133429\n",
      "karachi     0.873844 -0.476051  0.180900\n",
      "multan      0.638552  0.514380  1.479885\n",
      "lahore        2.128031\n",
      "bahawalpur    0.237453\n",
      "karachi       1.349895\n",
      "multan        0.965504\n",
      "dtype: float64\n",
      "b    1.770147\n",
      "d    1.579227\n",
      "e    0.608786\n",
      "dtype: float64\n"
     ]
    }
   ],
   "source": [
    "frame3 = pd.DataFrame (np.random.randn(4,3), columns = list('bde'),\n",
    "                              index = ['lahore', 'bahawalpur', 'karachi', 'multan'])\n",
    "\n",
    "print(frame3)\n",
    "f = lambda x: x.max() - x.min()   #  here ,column d ,frame3 = pd.DataFrame (np.random.randn(4,3), columns = list('bde'),\n",
    "#df = frame.apply(f)               #    apply same on three columns\n",
    "#print(df,type(df))\n",
    "\n",
    "print(frame3.apply(f, axis=1 ))     #   here, rows, find max and min then subtracting min into max and assign to x\n",
    "print(df)"
   ]
  },
  {
   "cell_type": "code",
   "execution_count": 40,
   "metadata": {},
   "outputs": [
    {
     "name": "stdout",
     "output_type": "stream",
     "text": [
      "            b         d         e\n",
      "min  0.873844  0.972328  1.479885\n",
      "max -1.155702 -0.476051  0.133429 <class 'pandas.core.frame.DataFrame'>\n"
     ]
    }
   ],
   "source": [
    "def min_max(x):\n",
    "    minimum = x.min()\n",
    "    maximum = x.max()\n",
    "    return pd.Series([maximum, minimum], index = ['min', 'max'])\n",
    "df = frame3.apply(min_max)\n",
    "print(df,type(df))"
   ]
  },
  {
   "cell_type": "markdown",
   "metadata": {},
   "source": [
    "# Sorting and Ranking"
   ]
  },
  {
   "cell_type": "code",
   "execution_count": 51,
   "metadata": {},
   "outputs": [
    {
     "name": "stdout",
     "output_type": "stream",
     "text": [
      "       d  a  b  c\n",
      "three  0  1  2  3\n",
      "one    4  5  6  7\n",
      "\n",
      "       d  c  b  a\n",
      "three  0  3  2  1\n",
      "one    4  7  6  5\n",
      "\n",
      "       d  a  b  c\n",
      "one    4  5  6  7\n",
      "three  0  1  2  3\n"
     ]
    }
   ],
   "source": [
    "#   Sort by indexes\n",
    "\n",
    "frame5 = pd.DataFrame(np.arange(8).reshape((2, 4)),\n",
    "                     index = ['three', 'one'],\n",
    "                     columns = ['d','a', 'b' , 'c'])\n",
    "print(frame5)\n",
    "print()\n",
    "print(frame5.sort_index(axis=1, ascending=False))\n",
    "print()\n",
    "print(frame5.sort_index())\n",
    "#default in sort:axis=0 , ascending=True"
   ]
  },
  {
   "cell_type": "code",
   "execution_count": 17,
   "metadata": {},
   "outputs": [
    {
     "name": "stdout",
     "output_type": "stream",
     "text": [
      "       d  a  b  c\n",
      "three  0  1  2  3\n",
      "one    4  5  6  7\n",
      "         d    a    b    c\n",
      "three  2.0  2.0  2.0  2.0\n",
      "one    1.0  1.0  1.0  1.0\n",
      "         d    a    b    c\n",
      "three  1.0  1.0  1.0  1.0\n",
      "one    2.0  2.0  2.0  2.0\n",
      "         d    a    b    c\n",
      "three  1.0  2.0  3.0  4.0\n",
      "one    1.0  2.0  3.0  4.0\n"
     ]
    }
   ],
   "source": [
    "#   Sorting by Value\n",
    "import pandas as pd\n",
    "import numpy as np\n",
    "frame5 = pd.DataFrame(np.arange(8).reshape((2, 4)),\n",
    "                     index = ['three', 'one'],\n",
    "                     columns = ['d','a', 'b' , 'c'])\n",
    "#print(frame5)\n",
    "#print('    ')\n",
    "print(frame5.sort_values(by = 'b'))\n",
    "print(frame5.rank(ascending=False , method='max'))\n",
    "print(frame5.rank(ascending=True , method='min'))\n",
    "print(frame5.rank(axis = 'columns'))"
   ]
  },
  {
   "cell_type": "code",
   "execution_count": 16,
   "metadata": {},
   "outputs": [
    {
     "name": "stdout",
     "output_type": "stream",
     "text": [
      "       d  a  b  c\n",
      "three  0  1  2  3\n",
      "one    4  5  6  7\n",
      "         d    a    b    c\n",
      "three  2.0  2.0  2.0  2.0\n",
      "one    1.0  1.0  1.0  1.0\n",
      "         d    a    b    c\n",
      "three  1.0  1.0  1.0  1.0\n",
      "one    2.0  2.0  2.0  2.0\n",
      "         d    a    b    c\n",
      "three  1.0  2.0  3.0  4.0\n",
      "one    1.0  2.0  3.0  4.0\n"
     ]
    }
   ],
   "source": [
    "print( frame5.sort_values(by='b') )\n",
    "print(frame5.rank(ascending=False, method='max'))\n",
    "print(frame5.rank(ascending=True, method='min'))\n",
    "print( frame5.rank(axis='columns'))\n",
    "\n"
   ]
  },
  {
   "cell_type": "markdown",
   "metadata": {},
   "source": [
    "#   Summarizing and computing Descriptive Statistics"
   ]
  },
  {
   "cell_type": "code",
   "execution_count": 20,
   "metadata": {},
   "outputs": [
    {
     "name": "stdout",
     "output_type": "stream",
     "text": [
      "   one  two\n",
      "a  1.4  NaN\n",
      "b  3.3 -5.4\n",
      "c  NaN  NaN\n",
      "d  0.3 -4.4\n",
      "\n",
      "one    5.0\n",
      "two   -9.8\n",
      "dtype: float64\n",
      "\n",
      "a    1.4\n",
      "b   -2.1\n",
      "c    0.0\n",
      "d   -4.1\n",
      "dtype: float64\n"
     ]
    }
   ],
   "source": [
    "df = pd.DataFrame ([[1.4, np.nan],[3.3,-5.4],[np.nan,np.nan],[0.3, -4.4]], \n",
    "                   index = ['a','b','c','d'], columns = ['one','two'])\n",
    "\n",
    "print(df)\n",
    "print()\n",
    "print(df.sum())        #  normal sum\n",
    "print()\n",
    "print(df.sum(axis='columns'))    #  if axis = column , then column wise sum"
   ]
  },
  {
   "cell_type": "code",
   "execution_count": 21,
   "metadata": {},
   "outputs": [],
   "source": [
    "#   use of skipana"
   ]
  },
  {
   "cell_type": "code",
   "execution_count": 24,
   "metadata": {},
   "outputs": [
    {
     "name": "stdout",
     "output_type": "stream",
     "text": [
      "   one  two\n",
      "a  1.4  NaN\n",
      "b  3.3 -5.4\n",
      "c  NaN  NaN\n",
      "d  0.3 -4.4\n",
      "\n",
      "a     NaN\n",
      "b   -1.05\n",
      "c     NaN\n",
      "d   -2.05\n",
      "dtype: float64\n"
     ]
    }
   ],
   "source": [
    "print(df)\n",
    "x = df.mean(axis='columns' , skipna = False)\n",
    "print()            #  mean operation / average operation\n",
    "print(x)"
   ]
  },
  {
   "cell_type": "code",
   "execution_count": 25,
   "metadata": {},
   "outputs": [
    {
     "name": "stdout",
     "output_type": "stream",
     "text": [
      "   one  two\n",
      "a  1.4  NaN\n",
      "b  3.3 -5.4\n",
      "c  NaN  NaN\n",
      "d  0.3 -4.4\n",
      "\n",
      "a    1.40\n",
      "b   -1.05\n",
      "c     NaN\n",
      "d   -2.05\n",
      "dtype: float64\n"
     ]
    }
   ],
   "source": [
    "print(df)\n",
    "x = df.mean(axis='columns' )    #   Remove skipna\n",
    "print()            #  mean operation / average operation\n",
    "print(x)"
   ]
  },
  {
   "cell_type": "code",
   "execution_count": 26,
   "metadata": {},
   "outputs": [],
   "source": [
    "#   Unique Values"
   ]
  },
  {
   "cell_type": "code",
   "execution_count": 27,
   "metadata": {},
   "outputs": [
    {
     "name": "stdout",
     "output_type": "stream",
     "text": [
      "    one  two  three  four\n",
      "a  1.40  1.4    1.5   NaN\n",
      "b  7.10 -4.5    1.5   1.4\n",
      "c  1.40  NaN    0.5   NaN\n",
      "d  0.75 -1.3    1.3   NaN\n",
      "\n"
     ]
    }
   ],
   "source": [
    "df = pd.DataFrame([\n",
    "                    [1.4,1.4, 1.5, np.nan], [7.1, -4.5, 1.5, 1.4],\n",
    "                    [1.4, np.nan, 0.5, np.nan], [0.75, -1.3, 1.3, np.nan]\n",
    "                   ], index=['a', 'b', 'c', 'd'], columns=['one', 'two', 'three', 'four'])\n",
    "print(df)\n",
    "print()"
   ]
  },
  {
   "cell_type": "code",
   "execution_count": 30,
   "metadata": {},
   "outputs": [
    {
     "name": "stdout",
     "output_type": "stream",
     "text": [
      "    one  two  three  four\n",
      "a  1.40  1.4    1.5   NaN\n",
      "b  7.10 -4.5    1.5   1.4\n",
      "c  1.40  NaN    0.5   NaN\n",
      "d  0.75 -1.3    1.3   NaN\n",
      "\n",
      "[1.4  7.1  0.75] [ 1.4 -4.5  nan -1.3]\n"
     ]
    },
    {
     "data": {
      "text/plain": [
       "1.40    2\n",
       "0.75    1\n",
       "7.10    1\n",
       "Name: one, dtype: int64"
      ]
     },
     "execution_count": 30,
     "metadata": {},
     "output_type": "execute_result"
    }
   ],
   "source": [
    "df = pd.DataFrame([\n",
    "                    [1.4,1.4, 1.5, np.nan], [7.1, -4.5, 1.5, 1.4],\n",
    "                    [1.4, np.nan, 0.5, np.nan], [0.75, -1.3, 1.3, np.nan]\n",
    "                   ], index=['a', 'b', 'c', 'd'], columns=['one', 'two', 'three', 'four'])\n",
    "print(df)\n",
    "print()\n",
    "print(df['one'].unique(), df['two'].unique())\n",
    "df['one'].value_counts()"
   ]
  },
  {
   "cell_type": "markdown",
   "metadata": {},
   "source": [
    "# Remember ! index length must be equal to value ( or do not provide index)"
   ]
  },
  {
   "cell_type": "code",
   "execution_count": 1,
   "metadata": {},
   "outputs": [],
   "source": [
    "#Assigning a column that already exist will ________ and \n",
    "# assigning a column that does not exist will ________"
   ]
  },
  {
   "cell_type": "code",
   "execution_count": 5,
   "metadata": {},
   "outputs": [
    {
     "name": "stdout",
     "output_type": "stream",
     "text": [
      "0      blue\n",
      "1       NaN\n",
      "2       NaN\n",
      "3    purple\n",
      "4       NaN\n",
      "5       NaN\n",
      "6    yellow\n",
      "7       NaN\n",
      "8       NaN\n",
      "dtype: object\n"
     ]
    }
   ],
   "source": [
    "# how to reindex and use of fill value of parameter method\n",
    "import pandas as pd\n",
    "obj3 = pd.Series (['blue', 'purple', 'yellow'], index = [0,3,6])\n",
    "# print(obj3)\n",
    "\n",
    "# might create new rows\n",
    "obj3 = obj3.reindex(range(9))\n",
    "print(obj3)\n"
   ]
  },
  {
   "cell_type": "code",
   "execution_count": 7,
   "metadata": {},
   "outputs": [
    {
     "name": "stdout",
     "output_type": "stream",
     "text": [
      "0      blue\n",
      "1      blue\n",
      "2      blue\n",
      "3    purple\n",
      "4    purple\n",
      "5    purple\n",
      "6    yellow\n",
      "7    yellow\n",
      "8    yellow\n",
      "dtype: object\n"
     ]
    }
   ],
   "source": [
    "# how to reindex and use of fill value of parameter method\n",
    "import pandas as pd\n",
    "obj3 = pd.Series (['blue', 'purple', 'yellow'], index = [0,3,6])\n",
    "# print(obj3)\n",
    "\n",
    "# might create new rows\n",
    "#obj3 = obj3.reindex(range(9))\n",
    "#print(obj3)\n",
    "obj3 = obj3.reindex(range(9), method = 'ffill')\n",
    "print(obj3)\n"
   ]
  },
  {
   "cell_type": "code",
   "execution_count": 8,
   "metadata": {},
   "outputs": [
    {
     "name": "stdout",
     "output_type": "stream",
     "text": [
      "2       blue\n",
      "3     purple\n",
      "4     purple\n",
      "5     purple\n",
      "6     yellow\n",
      "7     yellow\n",
      "8     yellow\n",
      "9     yellow\n",
      "10    yellow\n",
      "dtype: object\n"
     ]
    }
   ],
   "source": [
    "# how to reindex and use of fill value of parameter method\n",
    "import pandas as pd\n",
    "obj3 = pd.Series (['blue', 'purple', 'yellow'], index = [0,3,6])\n",
    "# print(obj3)\n",
    "\n",
    "# might create new rows\n",
    "#obj3 = obj3.reindex(range(9))\n",
    "#print(obj3)\n",
    "#obj3 = obj3.reindex(range(9), method = 'ffill')\n",
    "#print(obj3)\n",
    "obj3 = obj3.reindex(range(2,11), method = 'ffill')\n",
    "print(obj3)\n"
   ]
  },
  {
   "cell_type": "code",
   "execution_count": 11,
   "metadata": {},
   "outputs": [
    {
     "name": "stdout",
     "output_type": "stream",
     "text": [
      "   punjab  sindh  balochistan\n",
      "a       0      1            2\n",
      "c       3      4            5\n",
      "d       6      7            8\n"
     ]
    }
   ],
   "source": [
    "import numpy as np\n",
    "import pandas as pd\n",
    "\n",
    "states = pd.DataFrame(np.arange(9).reshape((3,3)),index = ['a', 'c','d'], columns = ['punjab', 'sindh','balochistan'])\n",
    "print(states)\n",
    "\n"
   ]
  },
  {
   "cell_type": "code",
   "execution_count": 15,
   "metadata": {},
   "outputs": [
    {
     "name": "stdout",
     "output_type": "stream",
     "text": [
      "   punjab  sindh  balochistan\n",
      "a       0      1            2\n",
      "b       0      1            2\n",
      "c       3      4            5\n",
      "d       6      7            8\n"
     ]
    }
   ],
   "source": [
    "import numpy as np\n",
    "import pandas as pd\n",
    "\n",
    "states = pd.DataFrame(np.arange(9).reshape((3,3)),index = ['a', 'c','d'], columns = ['punjab', 'sindh','balochistan'])\n",
    "#print(states)\n",
    "#  for your own working, run following statement without ffill\n",
    "states = states.reindex(['a','b','c','d'], method = 'ffill')\n",
    "print(states)"
   ]
  },
  {
   "cell_type": "code",
   "execution_count": 16,
   "metadata": {},
   "outputs": [],
   "source": [
    "# columns names changing using reindex method"
   ]
  },
  {
   "cell_type": "code",
   "execution_count": 18,
   "metadata": {},
   "outputs": [
    {
     "name": "stdout",
     "output_type": "stream",
     "text": [
      "   punjab  sindh  balochistan\n",
      "a       0      1            2\n",
      "c       3      4            5\n",
      "d       6      7            8\n",
      "   sindh  kpk  punjab  balochistan\n",
      "a      1  NaN       0            2\n",
      "c      4  NaN       3            5\n",
      "d      7  NaN       6            8\n"
     ]
    }
   ],
   "source": [
    "import numpy as np\n",
    "import pandas as pd\n",
    "\n",
    "states = pd.DataFrame(np.arange(9).reshape((3,3)),index = ['a', 'c','d'], columns = ['punjab', 'sindh','balochistan'])\n",
    "print(states)\n",
    "\n",
    "states_name = ['sindh','kpk','punjab','balochistan']\n",
    "# can we use ffill parameter in column reindex mode ?\n",
    "states = states.reindex(columns = states_name)\n",
    "print(states)\n"
   ]
  },
  {
   "cell_type": "markdown",
   "metadata": {},
   "source": [
    "#  Deleting data ( row or column in dataframe)"
   ]
  },
  {
   "cell_type": "code",
   "execution_count": 22,
   "metadata": {},
   "outputs": [
    {
     "name": "stdout",
     "output_type": "stream",
     "text": [
      "            one  two  three  four\n",
      "punjab        0    1      2     3\n",
      "kpk           4    5      6     7\n",
      "balchistan    8    9     10    11\n",
      "sindh        12   13     14    15\n"
     ]
    }
   ],
   "source": [
    "import numpy as np\n",
    "import pandas as pd\n",
    "\n",
    "data_df = pd.DataFrame(np.arange(16).reshape((4,4)), index = ['punjab', 'kpk','balchistan','sindh'],\n",
    "                     columns = ['one', 'two','three', 'four'])\n",
    "print(data_df)"
   ]
  },
  {
   "cell_type": "code",
   "execution_count": 39,
   "metadata": {},
   "outputs": [
    {
     "name": "stdout",
     "output_type": "stream",
     "text": [
      "            one  two  three  four\n",
      "punjab        0    1      2     3\n",
      "kpk           4    5      6     7\n",
      "balchistan    8    9     10    11\n",
      "sindh        12   13     14    15 \n",
      "\n",
      "            one  three  four\n",
      "punjab        0      2     3\n",
      "kpk           4      6     7\n",
      "balchistan    8     10    11\n",
      "sindh        12     14    15\n"
     ]
    }
   ],
   "source": [
    "import numpy as np\n",
    "import pandas as pd\n",
    "\n",
    "data_df = pd.DataFrame(np.arange(16).reshape((4,4)), index = ['punjab', 'kpk','balchistan','sindh'],\n",
    "                     columns = ['one', 'two','three', 'four'])\n",
    "print(data_df, \"\\n\")\n",
    "#  you can drop values from the columns by passing axis = 1\n",
    "#  or   , axis = 'columns'\n",
    "\n",
    "#data_df = data_df.drop('two' , axis=1 )   this method also drop column\n",
    "\n",
    "data_df.drop('two',axis=1,inplace= True)  # this method also drop column if inplace = true ,\n",
    "                                          #   if inplace = false then back the column\n",
    "\n",
    "print(data_df)\n"
   ]
  },
  {
   "cell_type": "code",
   "execution_count": 30,
   "metadata": {},
   "outputs": [
    {
     "name": "stdout",
     "output_type": "stream",
     "text": [
      "            one  two  three  four\n",
      "punjab        0    1      2     3\n",
      "kpk           4    5      6     7\n",
      "balchistan    8    9     10    11\n",
      "sindh        12   13     14    15\n",
      "            one  two  three  four\n",
      "punjab        0    1      2     3\n",
      "balchistan    8    9     10    11\n",
      "sindh        12   13     14    15\n"
     ]
    }
   ],
   "source": [
    "import numpy as np\n",
    "import pandas as pd\n",
    "\n",
    "data_df = pd.DataFrame(np.arange(16).reshape((4,4)), index = ['punjab', 'kpk','balchistan','sindh'],\n",
    "                     columns = ['one', 'two','three', 'four'])\n",
    "print(data_df)\n",
    "\n",
    "# if i want to remove a row for example 'kpk', \n",
    "# how can we do that\n",
    "\n",
    "data_df =data_df.drop(['kpk'])   this method remove the row\n",
    "print(data_df)"
   ]
  },
  {
   "cell_type": "code",
   "execution_count": 40,
   "metadata": {},
   "outputs": [
    {
     "data": {
      "text/html": [
       "<div>\n",
       "<style scoped>\n",
       "    .dataframe tbody tr th:only-of-type {\n",
       "        vertical-align: middle;\n",
       "    }\n",
       "\n",
       "    .dataframe tbody tr th {\n",
       "        vertical-align: top;\n",
       "    }\n",
       "\n",
       "    .dataframe thead th {\n",
       "        text-align: right;\n",
       "    }\n",
       "</style>\n",
       "<table border=\"1\" class=\"dataframe\">\n",
       "  <thead>\n",
       "    <tr style=\"text-align: right;\">\n",
       "      <th></th>\n",
       "      <th>one</th>\n",
       "      <th>three</th>\n",
       "      <th>four</th>\n",
       "    </tr>\n",
       "  </thead>\n",
       "  <tbody>\n",
       "    <tr>\n",
       "      <th>punjab</th>\n",
       "      <td>0</td>\n",
       "      <td>2</td>\n",
       "      <td>3</td>\n",
       "    </tr>\n",
       "    <tr>\n",
       "      <th>kpk</th>\n",
       "      <td>4</td>\n",
       "      <td>6</td>\n",
       "      <td>7</td>\n",
       "    </tr>\n",
       "    <tr>\n",
       "      <th>balchistan</th>\n",
       "      <td>8</td>\n",
       "      <td>10</td>\n",
       "      <td>11</td>\n",
       "    </tr>\n",
       "    <tr>\n",
       "      <th>sindh</th>\n",
       "      <td>12</td>\n",
       "      <td>14</td>\n",
       "      <td>15</td>\n",
       "    </tr>\n",
       "  </tbody>\n",
       "</table>\n",
       "</div>"
      ],
      "text/plain": [
       "            one  three  four\n",
       "punjab        0      2     3\n",
       "kpk           4      6     7\n",
       "balchistan    8     10    11\n",
       "sindh        12     14    15"
      ]
     },
     "execution_count": 40,
     "metadata": {},
     "output_type": "execute_result"
    }
   ],
   "source": [
    "data_df"
   ]
  },
  {
   "cell_type": "code",
   "execution_count": 41,
   "metadata": {},
   "outputs": [
    {
     "data": {
      "text/html": [
       "<div>\n",
       "<style scoped>\n",
       "    .dataframe tbody tr th:only-of-type {\n",
       "        vertical-align: middle;\n",
       "    }\n",
       "\n",
       "    .dataframe tbody tr th {\n",
       "        vertical-align: top;\n",
       "    }\n",
       "\n",
       "    .dataframe thead th {\n",
       "        text-align: right;\n",
       "    }\n",
       "</style>\n",
       "<table border=\"1\" class=\"dataframe\">\n",
       "  <thead>\n",
       "    <tr style=\"text-align: right;\">\n",
       "      <th></th>\n",
       "      <th>one</th>\n",
       "      <th>four</th>\n",
       "    </tr>\n",
       "  </thead>\n",
       "  <tbody>\n",
       "    <tr>\n",
       "      <th>punjab</th>\n",
       "      <td>0</td>\n",
       "      <td>3</td>\n",
       "    </tr>\n",
       "    <tr>\n",
       "      <th>kpk</th>\n",
       "      <td>4</td>\n",
       "      <td>7</td>\n",
       "    </tr>\n",
       "    <tr>\n",
       "      <th>balchistan</th>\n",
       "      <td>8</td>\n",
       "      <td>11</td>\n",
       "    </tr>\n",
       "    <tr>\n",
       "      <th>sindh</th>\n",
       "      <td>12</td>\n",
       "      <td>15</td>\n",
       "    </tr>\n",
       "  </tbody>\n",
       "</table>\n",
       "</div>"
      ],
      "text/plain": [
       "            one  four\n",
       "punjab        0     3\n",
       "kpk           4     7\n",
       "balchistan    8    11\n",
       "sindh        12    15"
      ]
     },
     "execution_count": 41,
     "metadata": {},
     "output_type": "execute_result"
    }
   ],
   "source": [
    " data_df.drop('three' , axis=1 )"
   ]
  },
  {
   "cell_type": "code",
   "execution_count": 42,
   "metadata": {},
   "outputs": [
    {
     "data": {
      "text/html": [
       "<div>\n",
       "<style scoped>\n",
       "    .dataframe tbody tr th:only-of-type {\n",
       "        vertical-align: middle;\n",
       "    }\n",
       "\n",
       "    .dataframe tbody tr th {\n",
       "        vertical-align: top;\n",
       "    }\n",
       "\n",
       "    .dataframe thead th {\n",
       "        text-align: right;\n",
       "    }\n",
       "</style>\n",
       "<table border=\"1\" class=\"dataframe\">\n",
       "  <thead>\n",
       "    <tr style=\"text-align: right;\">\n",
       "      <th></th>\n",
       "      <th>one</th>\n",
       "      <th>three</th>\n",
       "      <th>four</th>\n",
       "    </tr>\n",
       "  </thead>\n",
       "  <tbody>\n",
       "    <tr>\n",
       "      <th>punjab</th>\n",
       "      <td>0</td>\n",
       "      <td>2</td>\n",
       "      <td>3</td>\n",
       "    </tr>\n",
       "    <tr>\n",
       "      <th>kpk</th>\n",
       "      <td>4</td>\n",
       "      <td>6</td>\n",
       "      <td>7</td>\n",
       "    </tr>\n",
       "    <tr>\n",
       "      <th>balchistan</th>\n",
       "      <td>8</td>\n",
       "      <td>10</td>\n",
       "      <td>11</td>\n",
       "    </tr>\n",
       "    <tr>\n",
       "      <th>sindh</th>\n",
       "      <td>12</td>\n",
       "      <td>14</td>\n",
       "      <td>15</td>\n",
       "    </tr>\n",
       "  </tbody>\n",
       "</table>\n",
       "</div>"
      ],
      "text/plain": [
       "            one  three  four\n",
       "punjab        0      2     3\n",
       "kpk           4      6     7\n",
       "balchistan    8     10    11\n",
       "sindh        12     14    15"
      ]
     },
     "execution_count": 42,
     "metadata": {},
     "output_type": "execute_result"
    }
   ],
   "source": [
    "data_df"
   ]
  },
  {
   "cell_type": "code",
   "execution_count": 46,
   "metadata": {},
   "outputs": [],
   "source": [
    " data_df.drop('four' , axis=1 , inplace = True)"
   ]
  },
  {
   "cell_type": "code",
   "execution_count": 47,
   "metadata": {},
   "outputs": [
    {
     "data": {
      "text/html": [
       "<div>\n",
       "<style scoped>\n",
       "    .dataframe tbody tr th:only-of-type {\n",
       "        vertical-align: middle;\n",
       "    }\n",
       "\n",
       "    .dataframe tbody tr th {\n",
       "        vertical-align: top;\n",
       "    }\n",
       "\n",
       "    .dataframe thead th {\n",
       "        text-align: right;\n",
       "    }\n",
       "</style>\n",
       "<table border=\"1\" class=\"dataframe\">\n",
       "  <thead>\n",
       "    <tr style=\"text-align: right;\">\n",
       "      <th></th>\n",
       "      <th>one</th>\n",
       "    </tr>\n",
       "  </thead>\n",
       "  <tbody>\n",
       "    <tr>\n",
       "      <th>punjab</th>\n",
       "      <td>0</td>\n",
       "    </tr>\n",
       "    <tr>\n",
       "      <th>kpk</th>\n",
       "      <td>4</td>\n",
       "    </tr>\n",
       "    <tr>\n",
       "      <th>balchistan</th>\n",
       "      <td>8</td>\n",
       "    </tr>\n",
       "    <tr>\n",
       "      <th>sindh</th>\n",
       "      <td>12</td>\n",
       "    </tr>\n",
       "  </tbody>\n",
       "</table>\n",
       "</div>"
      ],
      "text/plain": [
       "            one\n",
       "punjab        0\n",
       "kpk           4\n",
       "balchistan    8\n",
       "sindh        12"
      ]
     },
     "execution_count": 47,
     "metadata": {},
     "output_type": "execute_result"
    }
   ],
   "source": [
    "data_df"
   ]
  },
  {
   "cell_type": "markdown",
   "metadata": {},
   "source": [
    "# Indexing , selection and filtering"
   ]
  },
  {
   "cell_type": "code",
   "execution_count": 51,
   "metadata": {},
   "outputs": [
    {
     "name": "stdout",
     "output_type": "stream",
     "text": [
      "            one  three\n",
      "punjab        0      2\n",
      "kpk           4      6\n",
      "balchistan    8     10\n",
      "sindh        12     14\n"
     ]
    }
   ],
   "source": [
    "import numpy as np\n",
    "import pandas as pd\n",
    "\n",
    "data_df = pd.DataFrame(np.arange(16).reshape((4,4)), index = ['punjab', 'kpk','balchistan','sindh'],\n",
    "                     columns = ['one', 'two','three', 'four'])\n",
    "#print(data_df, \"\\n\")\n",
    "df2  = data_df[ [\"one\", \"three\"] ]\n",
    "print(df2)\n",
    "#print( data_df[2:] ) # same like numpy\n",
    "#print(data_df[\"one\"] )# dicitonary like style of accessing data\n",
    "#print(data_df.one[2:])  # filter on both row and column\n",
    "# Conditonal Selection\n",
    "#print ( data_df.three[data_df['three'] > 5] )\n",
    "#print(data_df, \"\\n\")\n",
    "\n",
    "#f2 = data_df[\"three\"] > 5  # boolean dataframe\n",
    "#print(df2)\n",
    "#print( data_df[  data_df[\"three\"] > 5  ] )\n"
   ]
  },
  {
   "cell_type": "code",
   "execution_count": 58,
   "metadata": {},
   "outputs": [
    {
     "name": "stdout",
     "output_type": "stream",
     "text": [
      "            one  two  three  four\n",
      "punjab        0    1      2     3\n",
      "kpk           4    5      6     7\n",
      "balchistan    8    9     10    11\n",
      "sindh        12   13     14    15 \n",
      "\n",
      "            one  two  three  four\n",
      "balchistan    8    9     10    11\n",
      "sindh        12   13     14    15\n",
      "  \n"
     ]
    }
   ],
   "source": [
    "\n",
    "import numpy as np\n",
    "import pandas as pd\n",
    "\n",
    "data_df = pd.DataFrame(np.arange(16).reshape((4,4)), index = ['punjab', 'kpk','balchistan','sindh'],\n",
    "                     columns = ['one', 'two','three', 'four'])\n",
    "\n",
    "print(data_df, \"\\n\")\n",
    "#df2  = data_df[ [\"one\", \"three\"] ]\n",
    "#print(df2)\n",
    "print(data_df[2:])   #  same like numpy\n",
    "#print(data_df[\"one\"])  # dictionary like style of accessing data"
   ]
  },
  {
   "cell_type": "code",
   "execution_count": 59,
   "metadata": {},
   "outputs": [
    {
     "name": "stdout",
     "output_type": "stream",
     "text": [
      "punjab         0\n",
      "kpk            4\n",
      "balchistan     8\n",
      "sindh         12\n",
      "Name: one, dtype: int32\n"
     ]
    }
   ],
   "source": [
    "print(data_df[\"one\"])  # dictionary like style of accessing data"
   ]
  },
  {
   "cell_type": "code",
   "execution_count": 69,
   "metadata": {},
   "outputs": [
    {
     "name": "stdout",
     "output_type": "stream",
     "text": [
      "balchistan     8\n",
      "sindh         12\n",
      "Name: one, dtype: int32\n",
      "   \n",
      "kpk            6\n",
      "balchistan    10\n",
      "sindh         14\n",
      "Name: three, dtype: int32\n"
     ]
    }
   ],
   "source": [
    "print(data_df.one[2:])  # filter on both row and column\n",
    "print(\"   \")\n",
    "# Conditonal Selection\n",
    "print ( data_df.three[data_df['three'] > 5] )\n"
   ]
  },
  {
   "cell_type": "code",
   "execution_count": 68,
   "metadata": {},
   "outputs": [
    {
     "name": "stdout",
     "output_type": "stream",
     "text": [
      "            one  two  three  four\n",
      "punjab        0    1      2     3\n",
      "kpk           4    5      6     7\n",
      "balchistan    8    9     10    11\n",
      "sindh        12   13     14    15 \n",
      "\n"
     ]
    }
   ],
   "source": [
    "print(data_df, \"\\n\")\n",
    "#f2 = data_df[\"three\"] > 5  # boolean dataframe\n",
    "#print(df2)\n",
    "#print( data_df[  data_df[\"three\"] > 5  ] )\n"
   ]
  },
  {
   "cell_type": "code",
   "execution_count": 70,
   "metadata": {},
   "outputs": [
    {
     "name": "stdout",
     "output_type": "stream",
     "text": [
      "punjab        False\n",
      "kpk            True\n",
      "balchistan     True\n",
      "sindh          True\n",
      "Name: three, dtype: bool\n"
     ]
    }
   ],
   "source": [
    "df2 = data_df[\"three\"] > 5  # boolean dataFrame\n",
    "print(df2)\n"
   ]
  },
  {
   "cell_type": "code",
   "execution_count": 71,
   "metadata": {},
   "outputs": [
    {
     "name": "stdout",
     "output_type": "stream",
     "text": [
      "            one  two  three  four\n",
      "kpk           4    5      6     7\n",
      "balchistan    8    9     10    11\n",
      "sindh        12   13     14    15\n"
     ]
    }
   ],
   "source": [
    "print( data_df[  data_df[\"three\"] > 5  ] )\n"
   ]
  },
  {
   "cell_type": "markdown",
   "metadata": {},
   "source": [
    "#   Selection with lock and iloc"
   ]
  },
  {
   "cell_type": "code",
   "execution_count": 72,
   "metadata": {},
   "outputs": [
    {
     "name": "stdout",
     "output_type": "stream",
     "text": [
      "          one  two  three  four\n",
      "Ohio        0    1      2     3\n",
      "Colorado    4    5      6     7\n",
      "Utah        8    9     10    11\n",
      "New York   12   13     14    15 \n",
      "\n"
     ]
    }
   ],
   "source": [
    "import pandas as pd\n",
    "import numpy as np\n",
    "\n",
    "data_df = pd.DataFrame(np.arange(16).reshape((4, 4)), \n",
    "             index=['Ohio', 'Colorado', 'Utah', 'New York'],\n",
    "             columns=['one', 'two', 'three', 'four'])\n",
    "\n",
    "print(data_df, \"\\n\")\n",
    "# in the loc method specify row label first \n",
    "# then specify column names\n",
    "# remember! mutiple column names require array notation\n",
    "#print( data_df.loc[['Colorado','Ohio'], ['two',  'three'] ] )\n",
    "#print(\"\\n\")\n",
    "#print( data_df.iloc[2:, [3, 0, 1] ] ) # using number instead of labels\n",
    "#print( data_df.iloc[:])\n",
    "#print ( data_df.iloc[ :3 , :3 ] )\n",
    "#print( data_df.iloc[:, :3])"
   ]
  },
  {
   "cell_type": "code",
   "execution_count": 74,
   "metadata": {},
   "outputs": [
    {
     "name": "stdout",
     "output_type": "stream",
     "text": [
      "          two  three\n",
      "Colorado    5      6\n",
      "Ohio        1      2\n",
      "\n",
      "\n"
     ]
    }
   ],
   "source": [
    "print( data_df.loc[['Colorado','Ohio'], ['two',  'three'] ] )\n",
    "print(\"\\n\")"
   ]
  },
  {
   "cell_type": "code",
   "execution_count": 77,
   "metadata": {},
   "outputs": [
    {
     "name": "stdout",
     "output_type": "stream",
     "text": [
      "          four  one  two\n",
      "Utah        11    8    9\n",
      "New York    15   12   13\n",
      "   \n",
      "          one  two  three  four\n",
      "Ohio        0    1      2     3\n",
      "Colorado    4    5      6     7\n",
      "Utah        8    9     10    11\n",
      "New York   12   13     14    15\n"
     ]
    }
   ],
   "source": [
    "print( data_df.iloc[2:, [3, 0, 1] ] ) # using number instead of labels\n",
    "print(\"   \")\n",
    "print( data_df.iloc[:])"
   ]
  },
  {
   "cell_type": "code",
   "execution_count": 78,
   "metadata": {},
   "outputs": [
    {
     "name": "stdout",
     "output_type": "stream",
     "text": [
      "          one  two  three\n",
      "Ohio        0    1      2\n",
      "Colorado    4    5      6\n",
      "Utah        8    9     10\n"
     ]
    }
   ],
   "source": [
    "print ( data_df.iloc[ :3 , :3 ] )\n"
   ]
  },
  {
   "cell_type": "code",
   "execution_count": 79,
   "metadata": {},
   "outputs": [
    {
     "name": "stdout",
     "output_type": "stream",
     "text": [
      "          one  two  three\n",
      "Ohio        0    1      2\n",
      "Colorado    4    5      6\n",
      "Utah        8    9     10\n",
      "New York   12   13     14\n"
     ]
    }
   ],
   "source": [
    "print( data_df.iloc[:, :3])"
   ]
  },
  {
   "cell_type": "markdown",
   "metadata": {},
   "source": [
    "#  Arithematics and Data Alignment"
   ]
  },
  {
   "cell_type": "code",
   "execution_count": 82,
   "metadata": {},
   "outputs": [
    {
     "name": "stdout",
     "output_type": "stream",
     "text": [
      "['b', 'c', 'd']\n",
      "            b    c    d\n",
      "Ohio      0.0  1.0  2.0\n",
      "Texas     3.0  4.0  5.0\n",
      "Colorado  6.0  7.0  8.0\n",
      "          b     d     e\n",
      "Utah    0.0   1.0   2.0\n",
      "Ohio    3.0   4.0   5.0\n",
      "Texas   6.0   7.0   8.0\n",
      "Oregon  9.0  10.0  11.0\n",
      "\n",
      "            b   c     d   e\n",
      "Colorado  NaN NaN   NaN NaN\n",
      "Ohio      3.0 NaN   6.0 NaN\n",
      "Oregon    NaN NaN   NaN NaN\n",
      "Texas     9.0 NaN  12.0 NaN\n",
      "Utah      NaN NaN   NaN NaN\n"
     ]
    }
   ],
   "source": [
    "print(list('bcd'))\n",
    "\n",
    "df1 = pd.DataFrame(np.arange(9.).reshape((3, 3)), \n",
    "                   columns=list('bcd'), \n",
    "                   index=['Ohio', 'Texas', 'Colorado'])\n",
    "\n",
    "df2 = pd.DataFrame(np.arange(12.).reshape((4, 3)), \n",
    "                   columns=list('bde'),\n",
    "                    index=['Utah', 'Ohio', 'Texas', 'Oregon'])\n",
    "\n",
    "print(df1)\n",
    "print(df2)\n",
    "print()\n",
    "# applying plus operation between two data frames\n",
    "df3 = df1 + df2\n",
    "\n",
    "print(df3)\n",
    "# your work is to fill all Nan values of  this df3 with a number, \n",
    "# choice of number is yours"
   ]
  },
  {
   "cell_type": "code",
   "execution_count": 80,
   "metadata": {},
   "outputs": [
    {
     "name": "stdout",
     "output_type": "stream",
     "text": [
      "['b', 'c', 'd']\n"
     ]
    }
   ],
   "source": [
    "print(list('bcd'))"
   ]
  },
  {
   "cell_type": "code",
   "execution_count": 85,
   "metadata": {},
   "outputs": [
    {
     "name": "stdout",
     "output_type": "stream",
     "text": [
      "            b    c    d\n",
      "Ohio      0.0  1.0  2.0\n",
      "Texas     3.0  4.0  5.0\n",
      "Colorado  6.0  7.0  8.0\n",
      "   \n",
      "          b     d     e\n",
      "Utah    0.0   1.0   2.0\n",
      "Ohio    3.0   4.0   5.0\n",
      "Texas   6.0   7.0   8.0\n",
      "Oregon  9.0  10.0  11.0\n"
     ]
    }
   ],
   "source": [
    "print(df1)\n",
    "print(\"   \")\n",
    "print(df2)"
   ]
  },
  {
   "cell_type": "code",
   "execution_count": 86,
   "metadata": {},
   "outputs": [
    {
     "name": "stdout",
     "output_type": "stream",
     "text": [
      "            b   c     d   e\n",
      "Colorado  NaN NaN   NaN NaN\n",
      "Ohio      3.0 NaN   6.0 NaN\n",
      "Oregon    NaN NaN   NaN NaN\n",
      "Texas     9.0 NaN  12.0 NaN\n",
      "Utah      NaN NaN   NaN NaN\n"
     ]
    }
   ],
   "source": [
    "# applying plus operation between two data frames\n",
    "df3 = df1 + df2\n",
    "\n",
    "print(df3)\n",
    "# your work is to fill all Nan values of  this df3 with a number, \n",
    "# choice of number is yours"
   ]
  },
  {
   "cell_type": "markdown",
   "metadata": {},
   "source": [
    "#  Arithematic method with fill value"
   ]
  },
  {
   "cell_type": "code",
   "execution_count": 88,
   "metadata": {},
   "outputs": [
    {
     "name": "stdout",
     "output_type": "stream",
     "text": [
      "     a    b     c     d\n",
      "0  0.0  1.0   2.0   3.0\n",
      "1  4.0  5.0   6.0   7.0\n",
      "2  8.0  9.0  10.0  11.0\n",
      "      a     b     c     d     e\n",
      "0   0.0   1.0   2.0   3.0   4.0\n",
      "1   5.0   NaN   7.0   8.0   9.0\n",
      "2  10.0  11.0  12.0  13.0  14.0\n",
      "3  15.0  16.0  17.0  18.0  19.0\n",
      "\n",
      "direct + operation without fill_value\n",
      "--------\n",
      "\n",
      "addition using a method with replacing Nan with 0\n",
      "      a     b     c     d     e\n",
      "0   0.0   2.0   4.0   6.0   4.0\n",
      "1   9.0   5.0  13.0  15.0   9.0\n",
      "2  18.0  20.0  22.0  24.0  14.0\n",
      "3  15.0  16.0  17.0  18.0  19.0\n"
     ]
    }
   ],
   "source": [
    "df1 = pd.DataFrame(np.arange(12.).reshape((3, 4)),\n",
    "                   \n",
    "                     columns=list('abcd'))\n",
    "df2 = pd.DataFrame(np.arange(20.).reshape((4, 5)),\n",
    "                    columns=list('abcde'))\n",
    "print(df1)\n",
    "#print(df2)\n",
    "\n",
    "df2.loc[1, 'b'] = np.nan\n",
    "print(df2)\n",
    "df3 = df1 + df2\n",
    "print()\n",
    "print(\"direct + operation without fill_value\")\n",
    "#print(df3)\n",
    "print(\"--------\")\n",
    "print()\n",
    "# We can use add method for filling NaN cells with a value\n",
    "# Nan will be replaced by 0 and then addition operation will apply\n",
    "print(\"addition using a method with replacing Nan with 0\")\n",
    "df3 = df1.add(df2, fill_value=0)\n",
    "print(df3)"
   ]
  },
  {
   "cell_type": "code",
   "execution_count": 89,
   "metadata": {},
   "outputs": [
    {
     "name": "stdout",
     "output_type": "stream",
     "text": [
      "addition using a method with replacing Nan with 0\n",
      "      a     b     c     d     e\n",
      "0   0.0   2.0   4.0   6.0   4.0\n",
      "1   9.0   5.0  13.0  15.0   9.0\n",
      "2  18.0  20.0  22.0  24.0  14.0\n",
      "3  15.0  16.0  17.0  18.0  19.0\n"
     ]
    }
   ],
   "source": [
    "# We can use add method for filling NaN cells with a value\n",
    "# Nan will be replaced by 0 and then addition operation will apply\n",
    "\n",
    "print(\"addition using a method with replacing Nan with 0\")\n",
    "df3 = df1.add(df2, fill_value=0)\n",
    "print(df3)"
   ]
  },
  {
   "cell_type": "code",
   "execution_count": null,
   "metadata": {},
   "outputs": [],
   "source": []
  }
 ],
 "metadata": {
  "kernelspec": {
   "display_name": "Python 3",
   "language": "python",
   "name": "python3"
  },
  "language_info": {
   "codemirror_mode": {
    "name": "ipython",
    "version": 3
   },
   "file_extension": ".py",
   "mimetype": "text/x-python",
   "name": "python",
   "nbconvert_exporter": "python",
   "pygments_lexer": "ipython3",
   "version": "3.8.5"
  }
 },
 "nbformat": 4,
 "nbformat_minor": 4
}
